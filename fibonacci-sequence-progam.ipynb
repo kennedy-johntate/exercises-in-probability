{
 "cells": [
  {
   "cell_type": "markdown",
   "metadata": {},
   "source": [
    "# Fibonacci Sequence"
   ]
  },
  {
   "cell_type": "markdown",
   "metadata": {},
   "source": [
    "### It describes a series of numbers in which each number in the list is the sum of the previous two (with the exception of the first two numbers in the list, 0 and 1)."
   ]
  },
  {
   "cell_type": "markdown",
   "metadata": {},
   "source": [
    "### This sequence of numbers has applications in mathematics and biology. It's a known algorithm we can easily implement."
   ]
  },
  {
   "cell_type": "markdown",
   "metadata": {},
   "source": [
    "This user experience can be broken down into three distinct moments:\n",
    "\n",
    "1. getting the number of results to compute from the user;\n",
    "2. computing an n-length list of Fibonacci numbers;\n",
    "3. displaying that list of numbers;"
   ]
  },
  {
   "cell_type": "code",
   "execution_count": 5,
   "metadata": {},
   "outputs": [
    {
     "name": "stdout",
     "output_type": "stream",
     "text": [
      "0\n",
      "1\n",
      "1\n",
      "2\n",
      "3\n",
      "5\n",
      "8\n",
      "13\n",
      "21\n",
      "34\n",
      "55\n",
      "89\n",
      "144\n",
      "233\n",
      "377\n",
      "610\n",
      "987\n",
      "1597\n",
      "2584\n",
      "4181\n"
     ]
    }
   ],
   "source": [
    "# Create function to capture from the user the total number of results they want to see in this sequence.\n",
    "def get_fib_list_length():\n",
    "\n",
    "    # Stubbing this function temporarily to return a hard-coded value that is representative of a typical value we might receive.\n",
    "    # We can change this number to any value we choose for future sequences.\n",
    "    return 20\n",
    "\n",
    "\n",
    "# Create function to generate a Fibonacci sequence that when called will be passed a number (num) as an argument.\n",
    "def generate_fib(num):\n",
    "\n",
    "    # Create an emplty list to store the results.\n",
    "    result = []\n",
    "    \n",
    "    # Create a for loop to be executed once for each number from 0 up to (num).\n",
    "    for n in range(num):\n",
    "        \n",
    "        # Create the instructions inside the loop to be completed each time.\n",
    "        # If adding the first item to the result list append the number 0 to result list.\n",
    "        if n == 0:\n",
    "            result.append(0)\n",
    "        \n",
    "        # If adding the second itme to the result list append the number 1 to result list.\n",
    "        elif n == 1:\n",
    "            result.append(1)\n",
    "        \n",
    "        # Otherwise, sum the two previous items in the list and append to the result list.\n",
    "        else:\n",
    "            value = result[n-2] + result[n-1]\n",
    "            result.append(value)\n",
    "    \n",
    "    # Loop is now finished, return our result list with list of numbers populated by the generate_fib function.\n",
    "    return result\n",
    "\n",
    "\n",
    "# Create function to display the results/numbers to the user.\n",
    "def display_fibs(fibs):\n",
    "    for fib in fibs:\n",
    "        print(fib)\n",
    "\n",
    "\n",
    "# Create a main function that will be responsible for calling the 3 functions defined above.\n",
    "def main():\n",
    "    \n",
    "    # Instructions routing outputs from one function into another, in the correct order.\n",
    "    fib_limit = get_fib_list_length()\n",
    "    fibs = generate_fib(fib_limit)\n",
    "    display_fibs(fibs)\n",
    "\n",
    "    \n",
    "# Execute the code. So far, everything above has only been defining functions. Here we run the main function, which in turn runs\n",
    "# run the other 3 functions defined above.\n",
    "main()"
   ]
  },
  {
   "cell_type": "markdown",
   "metadata": {},
   "source": [
    "The architecture of this program is compiled of 3 distinct functions (get_fib_list_length, generate_fib, display_fibs) when together called by the main function reflects the way the problem breaks down into plain language (user experience) before beginning to code.\n",
    "\n",
    "\"We need a way to determine how long the list should be\" --> #1\n",
    "\"We need a way to generate a list of Fibonacci numbers up to a certain length\" --> #2\n",
    "\"We need a way to display the list to a user\" --> #3"
   ]
  }
 ],
 "metadata": {
  "kernelspec": {
   "display_name": "Python 3",
   "language": "python",
   "name": "python3"
  },
  "language_info": {
   "codemirror_mode": {
    "name": "ipython",
    "version": 3
   },
   "file_extension": ".py",
   "mimetype": "text/x-python",
   "name": "python",
   "nbconvert_exporter": "python",
   "pygments_lexer": "ipython3",
   "version": "3.5.5"
  }
 },
 "nbformat": 4,
 "nbformat_minor": 2
}

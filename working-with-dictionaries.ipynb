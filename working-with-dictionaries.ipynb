{
 "cells": [
  {
   "cell_type": "markdown",
   "metadata": {},
   "source": [
    "# Dictionaries are a common and useful data structure that allow you to store data as an unordered collection of key: value pairs."
   ]
  },
  {
   "cell_type": "markdown",
   "metadata": {},
   "source": [
    "Dictionaries make sense for data you reference by name, or \"key\", rather than by position, or \"index\" like with lists."
   ]
  },
  {
   "cell_type": "code",
   "execution_count": 3,
   "metadata": {},
   "outputs": [],
   "source": [
    "# The easiest way to create a dictionary is type out items as key: value pairs in curly braces {}.\n",
    "scores = {\n",
    "    # Each key is followed by a colon : and then the corresponding value.\n",
    "    # A key: value pair together are call an item.\n",
    "    # Each item is separated from the next with a comma.\n",
    "    \"Rams\": 17,\n",
    "    \"Saints\": 24,\n",
    "    \"Browns\": 10,\n",
    "    \"Chargers\": 21\n",
    "}"
   ]
  },
  {
   "cell_type": "code",
   "execution_count": 6,
   "metadata": {},
   "outputs": [],
   "source": [
    "professions = {\n",
    "    \"John\": \"Data\",\n",
    "    \"Tate\": \"Scientist\",\n",
    "    \"Heather\": \"Architect\",\n",
    "    \"Michelle\": \"Librarian\"\n",
    "}"
   ]
  },
  {
   "cell_type": "markdown",
   "metadata": {},
   "source": [
    "There are two big reasons dictionaries might be the right tool for the job:\n",
    "\n",
    "    Looking up or setting values by key rather than by index has incredibly different performance implications, and\n",
    "\n",
    "    Writing code that refers to data by name rather than by index number can be much clearer and easier to understand."
   ]
  },
  {
   "cell_type": "markdown",
   "metadata": {},
   "source": [
    "The point about performance will almost certainly come up during your technical interview process. If you're writing programs with large inputs, the performance differences between lists and dictionaries can mean the difference between code that executes in less than a second versus code that will keep running for days or years."
   ]
  },
  {
   "cell_type": "code",
   "execution_count": 4,
   "metadata": {},
   "outputs": [
    {
     "data": {
      "text/plain": [
       "10"
      ]
     },
     "execution_count": 4,
     "metadata": {},
     "output_type": "execute_result"
    }
   ],
   "source": [
    "# Dictionary values are accessed using bracket notation (just like with lists and strings) but instead of using an index number\n",
    "# you use a key.\n",
    "scores['Browns']"
   ]
  },
  {
   "cell_type": "code",
   "execution_count": 5,
   "metadata": {},
   "outputs": [
    {
     "data": {
      "text/plain": [
       "'Scientist'"
      ]
     },
     "execution_count": 5,
     "metadata": {},
     "output_type": "execute_result"
    }
   ],
   "source": [
    "professions['Tate']"
   ]
  },
  {
   "cell_type": "code",
   "execution_count": 9,
   "metadata": {},
   "outputs": [
    {
     "name": "stdout",
     "output_type": "stream",
     "text": [
      "{'notebooks': 20, 'pencils': 20, 'pens': 20}\n"
     ]
    }
   ],
   "source": [
    "# Updating the value associated with a key looks very much like assigning a value to a variable.\n",
    "inventory = {\n",
    "    \"pens\": 25,\n",
    "    \"pencils\": 25,\n",
    "    \"notebooks\": 12\n",
    "}\n",
    "\n",
    "inventory[\"pens\"] = 20\n",
    "inventory[\"pencils\"] -= 5\n",
    "inventory[\"notebooks\"] += 8\n",
    "\n",
    "print(inventory)"
   ]
  },
  {
   "cell_type": "code",
   "execution_count": 10,
   "metadata": {},
   "outputs": [
    {
     "name": "stdout",
     "output_type": "stream",
     "text": [
      "{'notebooks': 20, 'pencils': 20, 'water': 24, 'pens': 20}\n"
     ]
    }
   ],
   "source": [
    "# Creating a new key: value pair looks the same as well. You specify the key using bracket notation and assign a value with\n",
    "# the = operator.\n",
    "inventory[\"water\"] = 24\n",
    "\n",
    "print(inventory)"
   ]
  },
  {
   "cell_type": "code",
   "execution_count": 11,
   "metadata": {},
   "outputs": [
    {
     "ename": "KeyError",
     "evalue": "'pencils'",
     "output_type": "error",
     "traceback": [
      "\u001b[1;31m---------------------------------------------------------------------------\u001b[0m",
      "\u001b[1;31mKeyError\u001b[0m                                  Traceback (most recent call last)",
      "\u001b[1;32m<ipython-input-11-fa26a21291f9>\u001b[0m in \u001b[0;36m<module>\u001b[1;34m()\u001b[0m\n\u001b[0;32m      2\u001b[0m \u001b[1;32mdel\u001b[0m \u001b[0minventory\u001b[0m\u001b[1;33m[\u001b[0m\u001b[1;34m\"pencils\"\u001b[0m\u001b[1;33m]\u001b[0m\u001b[1;33m\u001b[0m\u001b[0m\n\u001b[0;32m      3\u001b[0m \u001b[1;33m\u001b[0m\u001b[0m\n\u001b[1;32m----> 4\u001b[1;33m \u001b[0minventory\u001b[0m\u001b[1;33m[\u001b[0m\u001b[1;34m\"pencils\"\u001b[0m\u001b[1;33m]\u001b[0m\u001b[1;33m\u001b[0m\u001b[0m\n\u001b[0m",
      "\u001b[1;31mKeyError\u001b[0m: 'pencils'"
     ]
    }
   ],
   "source": [
    "# You can delete items from a dictionary with the del keyword, removing the key: value pair entirely.\n",
    "del inventory[\"pencils\"]\n",
    "\n",
    "inventory[\"pencils\"]"
   ]
  },
  {
   "cell_type": "code",
   "execution_count": 12,
   "metadata": {},
   "outputs": [
    {
     "name": "stdout",
     "output_type": "stream",
     "text": [
      "{'notebooks': 20, 'water': 24, 'pens': 20}\n"
     ]
    }
   ],
   "source": [
    "print(inventory)"
   ]
  },
  {
   "cell_type": "markdown",
   "metadata": {},
   "source": [
    "### In and not in operators can be used to determine whether a key is in a dictionary at all."
   ]
  },
  {
   "cell_type": "code",
   "execution_count": 13,
   "metadata": {},
   "outputs": [
    {
     "data": {
      "text/plain": [
       "True"
      ]
     },
     "execution_count": 13,
     "metadata": {},
     "output_type": "execute_result"
    }
   ],
   "source": [
    "\"pens\" in inventory"
   ]
  },
  {
   "cell_type": "code",
   "execution_count": 14,
   "metadata": {},
   "outputs": [
    {
     "data": {
      "text/plain": [
       "False"
      ]
     },
     "execution_count": 14,
     "metadata": {},
     "output_type": "execute_result"
    }
   ],
   "source": [
    "\"pencils\" in inventory"
   ]
  },
  {
   "cell_type": "code",
   "execution_count": 16,
   "metadata": {},
   "outputs": [
    {
     "data": {
      "text/plain": [
       "True"
      ]
     },
     "execution_count": 16,
     "metadata": {},
     "output_type": "execute_result"
    }
   ],
   "source": [
    "\"pencils\" not in inventory"
   ]
  },
  {
   "cell_type": "markdown",
   "metadata": {},
   "source": [
    "These boolean operations are useful for working with dictionaries without raising KeyErrors. Unlike when we tried to check inventory[\"pencils\"] after deleting it, trying to look up the value for a key that isn't in the dictionary will raise a Key Error."
   ]
  },
  {
   "cell_type": "markdown",
   "metadata": {},
   "source": [
    "### Dictionary methods and looping."
   ]
  },
  {
   "cell_type": "markdown",
   "metadata": {},
   "source": [
    "There are 3 important dictionary methods you should know that map onto the 3 main concepts of dictionaries: keys, values and items.\n",
    "\n",
    "    .keys() dictionary method will return all the keys in a dictionary.\n",
    "\n",
    "    .values() method will return all the values in a dictionary.\n",
    "\n",
    "    .items() method will return all the key: value pairs (or \"items\") in a dictionary."
   ]
  },
  {
   "cell_type": "code",
   "execution_count": 18,
   "metadata": {},
   "outputs": [
    {
     "name": "stdout",
     "output_type": "stream",
     "text": [
      "dict_keys(['Browns', 'Chargers', 'Saints', 'Rams'])\n"
     ]
    }
   ],
   "source": [
    "# Use the .keys() method to create a list of each key.\n",
    "teams = scores.keys()\n",
    "print(teams)"
   ]
  },
  {
   "cell_type": "code",
   "execution_count": 20,
   "metadata": {},
   "outputs": [
    {
     "name": "stdout",
     "output_type": "stream",
     "text": [
      "dict_values(['Architect', 'Scientist', 'Data', 'Librarian'])\n"
     ]
    }
   ],
   "source": [
    "# Use the .values() method to create a list of each value.\n",
    "job_titles = professions.values()\n",
    "print(job_titles)"
   ]
  },
  {
   "cell_type": "code",
   "execution_count": 21,
   "metadata": {},
   "outputs": [
    {
     "name": "stdout",
     "output_type": "stream",
     "text": [
      "dict_items([('notebooks', 20), ('water', 24), ('pens', 20)])\n"
     ]
    }
   ],
   "source": [
    "# Use the .items() method to create a list of each key: value pair.\n",
    "supplies = inventory.items()\n",
    "print(supplies)"
   ]
  },
  {
   "cell_type": "markdown",
   "metadata": {},
   "source": [
    "Each of these methods returns a dictionary view object that looks and acts a lot like a list but is actually a different kind of object. There are two points regarding view objects we'll look at right now:"
   ]
  },
  {
   "cell_type": "code",
   "execution_count": 22,
   "metadata": {},
   "outputs": [
    {
     "data": {
      "text/plain": [
       "['notebooks', 'water', 'pens']"
      ]
     },
     "execution_count": 22,
     "metadata": {},
     "output_type": "execute_result"
    }
   ],
   "source": [
    "# Can easily convert them into real lists with the built-in list() function if you need a list.\n",
    "list(inventory.keys())"
   ]
  },
  {
   "cell_type": "code",
   "execution_count": 23,
   "metadata": {},
   "outputs": [
    {
     "data": {
      "text/plain": [
       "dict_keys(['notebooks', 'water', 'coffee', 'pens'])"
      ]
     },
     "execution_count": 23,
     "metadata": {},
     "output_type": "execute_result"
    }
   ],
   "source": [
    "# View objects provide a dynamic view of the underlying dictionary, so if you update the dictionary then the view object will \n",
    "# show you the updated data.\n",
    "items_in_inventory = inventory.keys()\n",
    "inventory[\"coffee\"] = 20\n",
    "items_in_inventory"
   ]
  },
  {
   "cell_type": "markdown",
   "metadata": {},
   "source": [
    "Dictionaries and their view objects are unordered. None of the items come before or after any of the other items. Printing out a dictionary or view objects will display the items in an essentially arbitrary order, and even in a different order when you print it different times. The same is true of the values generated by .keys(), .values(), and .items() above: the elements can come out in an arbitrary order. You won't know and shouldn't rely on them being in a particular order."
   ]
  },
  {
   "cell_type": "code",
   "execution_count": 25,
   "metadata": {},
   "outputs": [
    {
     "data": {
      "text/plain": [
       "['coffee', 'notebooks', 'pens', 'water']"
      ]
     },
     "execution_count": 25,
     "metadata": {},
     "output_type": "execute_result"
    }
   ],
   "source": [
    "# Use the built-in sorted() function on your relevant view object to create an ordered list.\n",
    "list(sorted(inventory.keys()))"
   ]
  }
 ],
 "metadata": {
  "kernelspec": {
   "display_name": "Python 3",
   "language": "python",
   "name": "python3"
  },
  "language_info": {
   "codemirror_mode": {
    "name": "ipython",
    "version": 3
   },
   "file_extension": ".py",
   "mimetype": "text/x-python",
   "name": "python",
   "nbconvert_exporter": "python",
   "pygments_lexer": "ipython3",
   "version": "3.5.5"
  }
 },
 "nbformat": 4,
 "nbformat_minor": 2
}

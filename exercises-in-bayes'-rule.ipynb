{
 "cells": [
  {
   "cell_type": "markdown",
   "metadata": {},
   "source": [
    "First look over the numbers and estimate each of the four probabilities, using your intuition. Then, calculate the probabilities using Bayes' rule.\n",
    "\n",
    "A diagnostic test has a 98% probability of giving a positive result when applied to a person suffering from Thripshaw's Disease, and 10% probability of giving a (false) positive when applied to a non-sufferer. It is estimated that 0.5 % of the population are sufferers. Suppose that the test is now administered to a person whose disease status is unknown. Calculate the probability that the test will:"
   ]
  },
  {
   "cell_type": "markdown",
   "metadata": {},
   "source": [
    "Question 1. Be positive\n",
    "\n",
    "Positive = 98% or .98\n",
    "False_Pos = 10% or .1\n",
    "Infected = 0.5% or .005\n",
    "Healthy = 99.5% or .995\n",
    "\n",
    "0.5% of the population is estimated to be infected with a 98% probability rate of giving a positive result (.005 * .98).\n",
    "By contrast, 99.5% of the population is assumed to be healthy with a 10% probability of giving a false positive when the test is given to an individual in this segment of the population (.995 * .1).\n",
    "\n",
    ".0049 / .0995 = .0492\n",
    "\n",
    "\n",
    "Solution in Curriculum  -->  Be positive= .98*.005 + .1*.995 = .1044"
   ]
  },
  {
   "cell_type": "markdown",
   "metadata": {},
   "source": [
    "Question 2. Correctly diagnose a sufferer of Thripshaw's\n",
    "\n",
    "A diagnostic test has a 98% (or .98) probability of giving a positive result when applied to a person suffering from Thripshaw's Disease."
   ]
  },
  {
   "cell_type": "markdown",
   "metadata": {},
   "source": [
    "Question 3. Correctly identify a non-sufferer of Thripshaw's\n",
    "\n",
    "A diagnostic test has a 98% probability of giving a positive result when applied to a person suffering from Thripshaw's Disease, and 10% probability of giving a (false) positive when applied to a non-sufferer.\n",
    "\n",
    "98% - 10% = 88% = .88"
   ]
  },
  {
   "cell_type": "markdown",
   "metadata": {},
   "source": [
    "Question 4. Misclassify the person\n",
    "\n",
    "1 - .0492 = .9508\n",
    "\n",
    "\n",
    "Solution in Curriculum  -->  Misclassify the person= 1-(.98*.005 + .9*.995)=.0996"
   ]
  }
 ],
 "metadata": {
  "kernelspec": {
   "display_name": "Python 3",
   "language": "python",
   "name": "python3"
  },
  "language_info": {
   "codemirror_mode": {
    "name": "ipython",
    "version": 3
   },
   "file_extension": ".py",
   "mimetype": "text/x-python",
   "name": "python",
   "nbconvert_exporter": "python",
   "pygments_lexer": "ipython3",
   "version": "3.5.5"
  }
 },
 "nbformat": 4,
 "nbformat_minor": 2
}

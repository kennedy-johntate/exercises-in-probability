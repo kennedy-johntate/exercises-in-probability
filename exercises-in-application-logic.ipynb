{
 "cells": [
  {
   "cell_type": "markdown",
   "metadata": {},
   "source": [
    "# Application Logic"
   ]
  },
  {
   "cell_type": "markdown",
   "metadata": {},
   "source": [
    "Use Python's if and else to implement conditional application logic. That means writing programs that can behave differently depending on their inputs."
   ]
  },
  {
   "cell_type": "markdown",
   "metadata": {},
   "source": [
    "The tools that Python gives us to form logical assertions: boolean values (True and False) and logical operators and (which is used to assert that two conditions are both true) and or (which is used to assert that at least one of two conditions is true).\n",
    "\n",
    "Control flow refers to the tools provided by a programming language to conditionally determine which set of instructions run. We'll cover if / elif / else, and try / except blocks, which are two forms of control flow in Python."
   ]
  },
  {
   "cell_type": "markdown",
   "metadata": {},
   "source": [
    "An assertion is a statement that evaluates to either True or False. Used in combination with if and else, logical assertions allow us to write conditional logic into our programs. We can tell our code to carry out one set of instructions if our assertion is true, and another if it is false."
   ]
  },
  {
   "cell_type": "markdown",
   "metadata": {},
   "source": [
    "### Truth in Python."
   ]
  },
  {
   "cell_type": "code",
   "execution_count": 1,
   "metadata": {},
   "outputs": [
    {
     "name": "stdout",
     "output_type": "stream",
     "text": [
      "True\n",
      "False\n"
     ]
    }
   ],
   "source": [
    "# Use the built in bool() function to convert a value into either True or False.\n",
    "print(bool(True))\n",
    "print(bool(False))"
   ]
  },
  {
   "cell_type": "code",
   "execution_count": 2,
   "metadata": {},
   "outputs": [
    {
     "name": "stdout",
     "output_type": "stream",
     "text": [
      "True\n",
      "True\n",
      "True\n",
      "True\n"
     ]
    }
   ],
   "source": [
    "# Numbers and strings evaluate to True.\n",
    "print(bool(17))\n",
    "print(bool(-24))\n",
    "print(bool(\"Seventeen\"))\n",
    "print(bool(\"  \"))"
   ]
  },
  {
   "cell_type": "code",
   "execution_count": 3,
   "metadata": {},
   "outputs": [
    {
     "name": "stdout",
     "output_type": "stream",
     "text": [
      "False\n",
      "False\n"
     ]
    }
   ],
   "source": [
    "# Zero and empty strings evaluate to False.\n",
    "print(bool(0))\n",
    "print(bool(\"\"))"
   ]
  },
  {
   "cell_type": "code",
   "execution_count": 6,
   "metadata": {},
   "outputs": [
    {
     "name": "stdout",
     "output_type": "stream",
     "text": [
      "True\n",
      "True\n"
     ]
    }
   ],
   "source": [
    "# Collections evaluate to True.\n",
    "print(bool([1, 2, 3]))\n",
    "print(bool({'name': 'John', 'weeks': 52, 'fails': None}))"
   ]
  },
  {
   "cell_type": "code",
   "execution_count": 7,
   "metadata": {},
   "outputs": [
    {
     "name": "stdout",
     "output_type": "stream",
     "text": [
      "False\n",
      "False\n"
     ]
    }
   ],
   "source": [
    "# Empty collections evaluate to False.\n",
    "print(bool([]))\n",
    "print(bool({}))"
   ]
  },
  {
   "cell_type": "code",
   "execution_count": 9,
   "metadata": {},
   "outputs": [
    {
     "name": "stdout",
     "output_type": "stream",
     "text": [
      "False\n"
     ]
    }
   ],
   "source": [
    "# None evaluates to False.\n",
    "print(bool(None))"
   ]
  },
  {
   "cell_type": "markdown",
   "metadata": {},
   "source": [
    "Anything that represents \"something\" is true. Negative numbers, strings of whitespace and objects all evaluate to True.\n",
    "\n",
    "Anything that represents \"nothing\" is false:\n",
    "False\n",
    "None\n",
    "0\n",
    "empty string ''\n",
    "empty list []\n",
    "empty dictionary {}"
   ]
  },
  {
   "cell_type": "markdown",
   "metadata": {},
   "source": [
    "### Logical operators are used to make assertions about two or more statements or values."
   ]
  },
  {
   "cell_type": "code",
   "execution_count": 10,
   "metadata": {},
   "outputs": [
    {
     "data": {
      "text/plain": [
       "True"
      ]
     },
     "execution_count": 10,
     "metadata": {},
     "output_type": "execute_result"
    }
   ],
   "source": [
    "# And (logical and) is used to assert whether or not two statements both evaluate to True.\n",
    "True and True"
   ]
  },
  {
   "cell_type": "code",
   "execution_count": 11,
   "metadata": {},
   "outputs": [
    {
     "data": {
      "text/plain": [
       "False"
      ]
     },
     "execution_count": 11,
     "metadata": {},
     "output_type": "execute_result"
    }
   ],
   "source": [
    "True and False"
   ]
  },
  {
   "cell_type": "code",
   "execution_count": 12,
   "metadata": {},
   "outputs": [
    {
     "data": {
      "text/plain": [
       "False"
      ]
     },
     "execution_count": 12,
     "metadata": {},
     "output_type": "execute_result"
    }
   ],
   "source": [
    "False and True"
   ]
  },
  {
   "cell_type": "markdown",
   "metadata": {},
   "source": [
    "When the expressions on both sides of and evaluate to True, the second expression is returned. In the first example above the second expression happens to literally be True, so that's what you get back. A similar thing goes on in the background when one of the expressions evaluates to False."
   ]
  },
  {
   "cell_type": "code",
   "execution_count": 13,
   "metadata": {},
   "outputs": [
    {
     "name": "stdout",
     "output_type": "stream",
     "text": [
      "False\n",
      "False\n",
      "False\n"
     ]
    }
   ],
   "source": [
    "print(False and False)\n",
    "print(False and True)\n",
    "print(True and False)"
   ]
  },
  {
   "cell_type": "code",
   "execution_count": 14,
   "metadata": {},
   "outputs": [
    {
     "name": "stdout",
     "output_type": "stream",
     "text": [
      "0\n",
      "None\n",
      "{}\n"
     ]
    }
   ],
   "source": [
    "print(True and 0)\n",
    "print(None and True)\n",
    "print({} and \"\")"
   ]
  },
  {
   "cell_type": "code",
   "execution_count": 15,
   "metadata": {},
   "outputs": [
    {
     "name": "stdout",
     "output_type": "stream",
     "text": [
      "[]\n",
      "0\n"
     ]
    }
   ],
   "source": [
    "print([] and {})\n",
    "print(1 and (0 and 2))"
   ]
  },
  {
   "cell_type": "markdown",
   "metadata": {},
   "source": [
    "The expression x and y first evaluates x. If 'x' is false, x is returned. Otherwise, y is evaluated and y is returned."
   ]
  },
  {
   "cell_type": "code",
   "execution_count": 16,
   "metadata": {},
   "outputs": [
    {
     "data": {
      "text/plain": [
       "True"
      ]
     },
     "execution_count": 16,
     "metadata": {},
     "output_type": "execute_result"
    }
   ],
   "source": [
    "# Or (logical or) is used to assert whether at least one of the expressions on either side of or evaluates to True.\n",
    "True or False"
   ]
  },
  {
   "cell_type": "code",
   "execution_count": 17,
   "metadata": {},
   "outputs": [
    {
     "data": {
      "text/plain": [
       "True"
      ]
     },
     "execution_count": 17,
     "metadata": {},
     "output_type": "execute_result"
    }
   ],
   "source": [
    "False or True"
   ]
  },
  {
   "cell_type": "code",
   "execution_count": 18,
   "metadata": {},
   "outputs": [
    {
     "data": {
      "text/plain": [
       "True"
      ]
     },
     "execution_count": 18,
     "metadata": {},
     "output_type": "execute_result"
    }
   ],
   "source": [
    "True or True"
   ]
  },
  {
   "cell_type": "code",
   "execution_count": 19,
   "metadata": {},
   "outputs": [
    {
     "data": {
      "text/plain": [
       "False"
      ]
     },
     "execution_count": 19,
     "metadata": {},
     "output_type": "execute_result"
    }
   ],
   "source": [
    "False or False"
   ]
  },
  {
   "cell_type": "markdown",
   "metadata": {},
   "source": [
    "Just like and expressions, or expressions actually return one of the expressions on either side of or."
   ]
  },
  {
   "cell_type": "code",
   "execution_count": 20,
   "metadata": {},
   "outputs": [
    {
     "name": "stdout",
     "output_type": "stream",
     "text": [
      "1\n",
      "1\n",
      "Tall\n"
     ]
    }
   ],
   "source": [
    "# Or expressions only need one side to be True, so if the first expression is true that's what is returned.\n",
    "print(1 or 2)\n",
    "print(1 or False)\n",
    "print('Tall' or 'Short')"
   ]
  },
  {
   "cell_type": "code",
   "execution_count": 28,
   "metadata": {},
   "outputs": [
    {
     "name": "stdout",
     "output_type": "stream",
     "text": [
      "Hello\n",
      "17\n",
      "   \n",
      "Goodbye\n",
      "0\n",
      "['Apple', 'Pear', 'Orange']\n",
      "   \n",
      "{}\n"
     ]
    }
   ],
   "source": [
    "# If the 1st expression evaluates to False then an or expression moves to the second expression and returns that no matter\n",
    "# whether the second value evaluates to True or False.\n",
    "print(False or 'Hello')\n",
    "print(0 or 17)\n",
    "print('   ' or None)\n",
    "print([] or \"Goodbye\")\n",
    "print('' or 0)\n",
    "print(0 or ['Apple', 'Pear', 'Orange'])\n",
    "print(False or \"   \")\n",
    "print(None or {})"
   ]
  },
  {
   "cell_type": "markdown",
   "metadata": {},
   "source": [
    "When this code is executed, first x's Boolean value will be evaluated. If x is \"truthy\", x will be returned. Otherwise, y's value will be returned (even if y evaluates to False)."
   ]
  },
  {
   "cell_type": "code",
   "execution_count": 29,
   "metadata": {},
   "outputs": [
    {
     "name": "stdout",
     "output_type": "stream",
     "text": [
      "False\n",
      "True\n",
      "False\n",
      "True\n",
      "False\n"
     ]
    }
   ],
   "source": [
    "# Not (logical not) operator evaluates an expression and gives the boolean opposite.\n",
    "print(not True)\n",
    "print(not False)\n",
    "print(not \"Hello\")\n",
    "print(not 0)\n",
    "print(not 17)"
   ]
  },
  {
   "cell_type": "code",
   "execution_count": 31,
   "metadata": {},
   "outputs": [
    {
     "name": "stdout",
     "output_type": "stream",
     "text": [
      "Hello Tate\n",
      "Hello mystery person?\n",
      "Hello mystery person?\n",
      "Hello mystery person?\n"
     ]
    }
   ],
   "source": [
    "# Create a function using application logic.\n",
    "def greeting(name):\n",
    "    # Reassign the value of name using an or operator.\n",
    "    name = name or 'mystery person?'\n",
    "    return \"Hello \" + name\n",
    "\n",
    "# If the function is called with a value like Tate which evaluates to True, then name gets the same value again.\n",
    "greeting_ex1 = greeting('Tate')\n",
    "\n",
    "# If the function is called with a value like an empty string ('') or None or 0 which evaluates to False, then the default value\n",
    "# 'mystery person?' is assigned instead.\n",
    "greeting_ex2 = greeting('')\n",
    "greeting_ex3 = greeting(None)\n",
    "greeting_ex4 = greeting(0)\n",
    "\n",
    "print(greeting_ex1)\n",
    "print(greeting_ex2)\n",
    "print(greeting_ex3)\n",
    "print(greeting_ex4)"
   ]
  },
  {
   "cell_type": "markdown",
   "metadata": {},
   "source": [
    "### Control flow dictates how programs execute different sets of instructions based on differing conditions."
   ]
  },
  {
   "cell_type": "markdown",
   "metadata": {},
   "source": [
    "Having one branch of code that executes if a condition is true, and another branch that executes if the condition is false. There are two ways of achieving control flow: conditional statements (if, else, elif) and exception handling (try and except statements)."
   ]
  },
  {
   "cell_type": "code",
   "execution_count": 35,
   "metadata": {},
   "outputs": [
    {
     "name": "stdout",
     "output_type": "stream",
     "text": [
      "Welcome, John.\n",
      "None\n",
      "\n",
      "\n",
      "Welcome, John.\n",
      "Welcome, Tate.\n",
      "Welcome, Legolas.\n",
      "You are not a registered user. Access denied.\n"
     ]
    }
   ],
   "source": [
    "# Python gives us 3 keywords for working with conditionality: if, else and elif.\n",
    "def login_greeting(user):\n",
    "    # To use an if statement, you begin with if followed by an expression and ended by a colon :.\n",
    "    if user == \"John\":\n",
    "        # Below that you indent a block of code to be executed if the condition evaluates to True.\n",
    "        return \"Welcome, John.\"\n",
    "\n",
    "# Same syntax is used for elif (aka \"else if\") with the additional requirement that elif statements must follow an if statement.\n",
    "def login_greeting_expanded(user):\n",
    "    if user == \"John\":\n",
    "        return \"Welcome, John.\"\n",
    "    elif user == \"Tate\":\n",
    "        return \"Welcome, Tate.\"\n",
    "    # You can use as many elif statements as you like.\n",
    "    elif user == \"Legolas\":\n",
    "        return \"Welcome, Legolas.\"\n",
    "    # The catch-all else statement can follow if and elif statements to end a conditional statement.\n",
    "    else:\n",
    "        # The else clause is a catch-all, so you don't include a condition to test.\n",
    "        return \"You are not a registered user. Access denied.\"\n",
    "\n",
    "print(login_greeting(\"John\"))\n",
    "print(login_greeting(\"Jon\"))\n",
    "print('\\n')\n",
    "print(login_greeting_expanded(\"John\"))\n",
    "print(login_greeting_expanded(\"Tate\"))\n",
    "print(login_greeting_expanded(\"Legolas\"))\n",
    "print(login_greeting_expanded(\"Frodo\"))"
   ]
  },
  {
   "cell_type": "markdown",
   "metadata": {},
   "source": [
    "Python gives us try and except statements for dealing with conditional logic in the case of exceptions. These language constructs allow us to specify a block of code to be tried (the try statement). If that block does not succeed, the code in the except block runs."
   ]
  },
  {
   "cell_type": "code",
   "execution_count": 36,
   "metadata": {},
   "outputs": [
    {
     "name": "stdout",
     "output_type": "stream",
     "text": [
      "24 is an even number.\n",
      "17 is an odd number.\n"
     ]
    },
    {
     "ename": "TypeError",
     "evalue": "not all arguments converted during string formatting",
     "output_type": "error",
     "traceback": [
      "\u001b[1;31m---------------------------------------------------------------------------\u001b[0m",
      "\u001b[1;31mTypeError\u001b[0m                                 Traceback (most recent call last)",
      "\u001b[1;32m<ipython-input-36-99bf20fba6de>\u001b[0m in \u001b[0;36m<module>\u001b[1;34m()\u001b[0m\n\u001b[0;32m     10\u001b[0m \u001b[0mprint\u001b[0m\u001b[1;33m(\u001b[0m\u001b[0meven_or_odd\u001b[0m\u001b[1;33m(\u001b[0m\u001b[1;36m24\u001b[0m\u001b[1;33m)\u001b[0m\u001b[1;33m)\u001b[0m\u001b[1;33m\u001b[0m\u001b[0m\n\u001b[0;32m     11\u001b[0m \u001b[0mprint\u001b[0m\u001b[1;33m(\u001b[0m\u001b[0meven_or_odd\u001b[0m\u001b[1;33m(\u001b[0m\u001b[1;36m17\u001b[0m\u001b[1;33m)\u001b[0m\u001b[1;33m)\u001b[0m\u001b[1;33m\u001b[0m\u001b[0m\n\u001b[1;32m---> 12\u001b[1;33m \u001b[0mprint\u001b[0m\u001b[1;33m(\u001b[0m\u001b[0meven_or_odd\u001b[0m\u001b[1;33m(\u001b[0m\u001b[1;34m\"Two\"\u001b[0m\u001b[1;33m)\u001b[0m\u001b[1;33m)\u001b[0m\u001b[1;33m\u001b[0m\u001b[0m\n\u001b[0m",
      "\u001b[1;32m<ipython-input-36-99bf20fba6de>\u001b[0m in \u001b[0;36meven_or_odd\u001b[1;34m(num)\u001b[0m\n\u001b[0;32m      1\u001b[0m \u001b[1;31m# Create a function to determine if an integer is even or odd.\u001b[0m\u001b[1;33m\u001b[0m\u001b[1;33m\u001b[0m\u001b[0m\n\u001b[0;32m      2\u001b[0m \u001b[1;32mdef\u001b[0m \u001b[0meven_or_odd\u001b[0m\u001b[1;33m(\u001b[0m\u001b[0mnum\u001b[0m\u001b[1;33m)\u001b[0m\u001b[1;33m:\u001b[0m\u001b[1;33m\u001b[0m\u001b[0m\n\u001b[1;32m----> 3\u001b[1;33m     \u001b[1;32mif\u001b[0m \u001b[0mnum\u001b[0m \u001b[1;33m%\u001b[0m \u001b[1;36m2\u001b[0m \u001b[1;33m==\u001b[0m \u001b[1;36m0\u001b[0m\u001b[1;33m:\u001b[0m\u001b[1;33m\u001b[0m\u001b[0m\n\u001b[0m\u001b[0;32m      4\u001b[0m         \u001b[1;32mreturn\u001b[0m \u001b[1;34m\"{} is an even number.\"\u001b[0m\u001b[1;33m.\u001b[0m\u001b[0mformat\u001b[0m\u001b[1;33m(\u001b[0m\u001b[0mnum\u001b[0m\u001b[1;33m)\u001b[0m\u001b[1;33m\u001b[0m\u001b[0m\n\u001b[0;32m      5\u001b[0m     \u001b[1;32melif\u001b[0m \u001b[0mnum\u001b[0m \u001b[1;33m%\u001b[0m \u001b[1;36m2\u001b[0m \u001b[1;33m==\u001b[0m \u001b[1;36m1\u001b[0m\u001b[1;33m:\u001b[0m\u001b[1;33m\u001b[0m\u001b[0m\n",
      "\u001b[1;31mTypeError\u001b[0m: not all arguments converted during string formatting"
     ]
    }
   ],
   "source": [
    "# Create a function to determine if an integer is even or odd.\n",
    "def even_or_odd(num):\n",
    "    if num % 2 == 0:\n",
    "        return \"{} is an even number.\".format(num)\n",
    "    elif num % 2 == 1:\n",
    "        return \"{} is an odd number.\".format(num)\n",
    "    else:\n",
    "        return \"{} is not a integer.\".format(num)\n",
    "\n",
    "print(even_or_odd(24))\n",
    "print(even_or_odd(17))\n",
    "print(even_or_odd(\"Two\"))\n"
   ]
  },
  {
   "cell_type": "markdown",
   "metadata": {},
   "source": [
    "In this example the function is expecting a number to be passed in. When it tries modulo division on a string when evaluating \"Two\" % 2 == 0 the program raises an exception, or error. Specifically, a TypeError.\n",
    "\n",
    "We don't have anything here to \"handle\" the exception, so our program halts and prints out a stack trace (or traceback) with information about what went wrong."
   ]
  },
  {
   "cell_type": "code",
   "execution_count": 37,
   "metadata": {},
   "outputs": [
    {
     "name": "stdout",
     "output_type": "stream",
     "text": [
      "24 modulo 3 is 0.\n",
      "17 modulo 3 is 2.\n",
      "Three isn't even an integer.\n"
     ]
    }
   ],
   "source": [
    "# Using a try, except statement instead of an if statement lets us \"try\" executing code that might raise an exception and run \n",
    "# code to \"handle\" the exception if it does occur.\n",
    "def thirds(num):\n",
    "    try:\n",
    "        result = num % 3\n",
    "        return \"{} modulo 3 is {}.\".format(num, result)\n",
    "    # Try / except statements give the added benefit of letting your program continue to run.\n",
    "    except TypeError:\n",
    "        return \"{} isn't even an integer.\".format(num)\n",
    "\n",
    "print(thirds(24))\n",
    "print(thirds(17))\n",
    "print(thirds(\"Three\"))"
   ]
  },
  {
   "cell_type": "markdown",
   "metadata": {},
   "source": [
    "While unhandled exceptions halt your program with a traceback, handling an exception allows your program to gracefully continue along even when you raise an exception and conditionally run code when an exception does occur."
   ]
  }
 ],
 "metadata": {
  "kernelspec": {
   "display_name": "Python 3",
   "language": "python",
   "name": "python3"
  },
  "language_info": {
   "codemirror_mode": {
    "name": "ipython",
    "version": 3
   },
   "file_extension": ".py",
   "mimetype": "text/x-python",
   "name": "python",
   "nbconvert_exporter": "python",
   "pygments_lexer": "ipython3",
   "version": "3.5.5"
  }
 },
 "nbformat": 4,
 "nbformat_minor": 2
}

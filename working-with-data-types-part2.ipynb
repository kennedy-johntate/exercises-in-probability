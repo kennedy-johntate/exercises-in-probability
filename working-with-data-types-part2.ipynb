{
 "cells": [
  {
   "cell_type": "markdown",
   "metadata": {},
   "source": [
    "# How to use numbers, strings, and functions in Python to implement a set of instructions that solve a problem."
   ]
  },
  {
   "cell_type": "markdown",
   "metadata": {},
   "source": [
    "That problem might be as simple as trimming unnecessary white space from data or as complex as modeling the stock market. This notebook continues working with the data types numbers and strings but in the context of writing useful, reusable functions. A lot of the code written will be dedicated to manipulating strings and numbers throughout ones career."
   ]
  },
  {
   "cell_type": "markdown",
   "metadata": {},
   "source": [
    "### Functions describe a repeatable process or behavior."
   ]
  },
  {
   "cell_type": "markdown",
   "metadata": {},
   "source": [
    "You define that behavior once, and you can run and re-run your set of instructions whenever and as many times as you need. Python's built-in print() function is an example of a function seen several times already."
   ]
  },
  {
   "cell_type": "code",
   "execution_count": 4,
   "metadata": {},
   "outputs": [
    {
     "name": "stdout",
     "output_type": "stream",
     "text": [
      "Hello Tate!\n",
      "Functions are powerful tools you can utilize in your programs.\n"
     ]
    }
   ],
   "source": [
    "# Create print fucntions with a single argument or value that is passed into the function.\n",
    "print(\"Hello Tate!\")\n",
    "print(\"Functions are powerful tools you can utilize in your programs.\")"
   ]
  },
  {
   "cell_type": "markdown",
   "metadata": {},
   "source": [
    "In the context of functions, an argument (or parameter) is a value that gets passed to the function and that the instructions inside the function have access to."
   ]
  },
  {
   "cell_type": "markdown",
   "metadata": {},
   "source": [
    "There are two distinct moments to consider when working with functions: when you initially define a function and when you execute (or \"call\") a function that has already been defined."
   ]
  },
  {
   "cell_type": "markdown",
   "metadata": {},
   "source": [
    "### Function definitions."
   ]
  },
  {
   "cell_type": "code",
   "execution_count": 7,
   "metadata": {},
   "outputs": [],
   "source": [
    "# The def keyword signifies that a functions is about to be defined.\n",
    "# The fucntion name (triples) comes next and gives us a way to refer back to the function later.\n",
    "# The function's parameters list is created next, which are the parameters the function will expect to be passed inside to the \n",
    "# main body of the function when the function is called (in this case we're passing in a single parameter (num)).\n",
    "# The : character tells the Python interpreter you're going to provide the lines of code making up the main body of the function.\n",
    "def triples(num):\n",
    "    # In this case there is only one linke of code in the body.\n",
    "    # Indentation is required in Python or the interpreter will raise a syntax error.\n",
    "    # Return statement tells the function what value to output to the part of the program that eventually executes the function.\n",
    "    return num * 3"
   ]
  },
  {
   "cell_type": "markdown",
   "metadata": {},
   "source": [
    "The return keyword starts the return statement, followed by the value that you'd like to return.\n",
    "Return statements tell your function that its job is done and will end the execution of the instructions in your function body. That means any code coming after your return statement inside the function body won't be executed."
   ]
  },
  {
   "cell_type": "code",
   "execution_count": 9,
   "metadata": {},
   "outputs": [
    {
     "data": {
      "text/plain": [
       "15"
      ]
     },
     "execution_count": 9,
     "metadata": {},
     "output_type": "execute_result"
    }
   ],
   "source": [
    "# Execute the function defined above.\n",
    "triples(5)"
   ]
  },
  {
   "cell_type": "code",
   "execution_count": 10,
   "metadata": {},
   "outputs": [
    {
     "name": "stdout",
     "output_type": "stream",
     "text": [
      "30\n"
     ]
    }
   ],
   "source": [
    "# This time, store the functions return value in a variable.\n",
    "fx_result = triples(10)\n",
    "print(fx_result)"
   ]
  },
  {
   "cell_type": "markdown",
   "metadata": {},
   "source": [
    "### Calling functions."
   ]
  },
  {
   "cell_type": "markdown",
   "metadata": {},
   "source": [
    "Once you've defined a function you have a named block of code that you can execute when you call the function by name. To call a function write out its name followed by parentheses ( ) containing the argument(s) you want to pass in.\n",
    "\n",
    "In the example above we call the triple() function with triple(5) after having defined it."
   ]
  },
  {
   "cell_type": "code",
   "execution_count": 11,
   "metadata": {},
   "outputs": [
    {
     "data": {
      "text/plain": [
       "50.0"
      ]
     },
     "execution_count": 11,
     "metadata": {},
     "output_type": "execute_result"
    }
   ],
   "source": [
    "def variance(numbers):\n",
    "    length = len(numbers)\n",
    "    mean = sum(numbers) / length\n",
    "    square_differences_from_mean = []\n",
    "    for number in numbers:\n",
    "        square_differences_from_mean.append((number - mean) ** 2)\n",
    "    sum_of_square_differences = sum(square_differences_from_mean)\n",
    "    variance = sum_of_square_differences / length\n",
    "    return variance\n",
    "\n",
    "variance([5, 10, 15, 20, 25])"
   ]
  },
  {
   "cell_type": "markdown",
   "metadata": {},
   "source": [
    "### Determinate functions map arguments onto exactly one return value."
   ]
  },
  {
   "cell_type": "code",
   "execution_count": 13,
   "metadata": {},
   "outputs": [
    {
     "name": "stdout",
     "output_type": "stream",
     "text": [
      "12\n"
     ]
    }
   ],
   "source": [
    "# Create an example of a determinate function.\n",
    "def double(num):\n",
    "    return num * 2\n",
    "\n",
    "# Call and print.\n",
    "print(double(6))\n",
    "\n",
    "# It takes an input and maps it onto a single return value. Every time you call this function with the same input you'll get the\n",
    "# same output."
   ]
  },
  {
   "cell_type": "code",
   "execution_count": 15,
   "metadata": {},
   "outputs": [
    {
     "name": "stdout",
     "output_type": "stream",
     "text": [
      "1300\n"
     ]
    }
   ],
   "source": [
    "# Create an example of a fucntion that isnt' determinate.\n",
    "secret_num = 100\n",
    "def multiply_by_secret_num(num):\n",
    "    return num * secret_num\n",
    "\n",
    "# Call and print.\n",
    "print(multiply_by_secret_num(13))"
   ]
  },
  {
   "cell_type": "code",
   "execution_count": 17,
   "metadata": {},
   "outputs": [
    {
     "name": "stdout",
     "output_type": "stream",
     "text": [
      "26\n"
     ]
    }
   ],
   "source": [
    "# Call it again but change the value of secret_num.\n",
    "secret_num = 2\n",
    "print(multiply_by_secret_num(13))\n",
    "\n",
    "# It looks at data beyond the argument passed in and outputs a different value depending on what's happening' with an unrelated\n",
    "# variable. Functions like this that can return a different value when called with the same argument are not \"determinate\" functions."
   ]
  },
  {
   "cell_type": "markdown",
   "metadata": {},
   "source": [
    "Using determinate functions makes your code easier to reason about because you don't need to keep the state of the rest of your program in mind in order to know how the function will act. In the example above you have to know (or find out) what the value of secret_number is before you can predict how your code will act.\n",
    "\n",
    "Since Python functions are just a collection of instructions it is possible to modify state of your program. A function that modifies the state of your program is said to have side effects."
   ]
  },
  {
   "cell_type": "code",
   "execution_count": 18,
   "metadata": {},
   "outputs": [
    {
     "name": "stdout",
     "output_type": "stream",
     "text": [
      "0\n",
      "Added 10 new customers\n",
      "Added 3 new customers\n",
      "13\n",
      "42\n"
     ]
    }
   ],
   "source": [
    "# This global variable keeps track of the state of our program.\n",
    "customer_count = 0\n",
    "\n",
    "# This function has a side effect: it changes the state of the program when it's called. Note that it doesn't even have a real\n",
    "# return value.\n",
    "def add_customers(n):\n",
    "    global customer_count\n",
    "    customer_count = customer_count + n\n",
    "    print(\"Added {} new customers\".format(n))\n",
    "    return None\n",
    "    \n",
    "# First let's print the state of our program before changing it.\n",
    "print(customer_count)\n",
    "\n",
    "# Now let's call our function and see what happens.\n",
    "add_customers(10)\n",
    "add_customers(3)\n",
    "print(customer_count)\n",
    "\n",
    "# Here is a much better approach.\n",
    "sale_count = 0\n",
    "\n",
    "def add_sale(n, sale_count):\n",
    "    return n + sale_count\n",
    "\n",
    "sale_count = add_sale(40, sale_count)\n",
    "sale_count = add_sale(2, sale_count)\n",
    "print(sale_count)"
   ]
  },
  {
   "cell_type": "markdown",
   "metadata": {},
   "source": [
    "In general it's better to write your functions so they don't have unneeded side effects. In fact, Python intentionally makes it difficult to modify variables outside a function's scope (more on \"scope\" later) by requiring you to explicitly declare you want to do that with the global keyword as we did in the example above.\n",
    "\n",
    "A Python function that is both determinate and has no side effects works essentially like a function in mathematics. Python functions with each of these two properties are called \"pure functions\"."
   ]
  },
  {
   "cell_type": "markdown",
   "metadata": {},
   "source": [
    "Just knowing the name of the function gives us a good sense of what it does. As with variables, a well chosen function name can make clear what might otherwise require multiple lines of comments to explain.\n",
    "\n",
    "Well crafted functions like print() have a single responsibility. This means that they are designed to do one thing and do it well. "
   ]
  },
  {
   "cell_type": "markdown",
   "metadata": {},
   "source": [
    "### String is a sequence of characters."
   ]
  },
  {
   "cell_type": "markdown",
   "metadata": {},
   "source": [
    "In Python, assign string values to variables by using either single or double quotes around a sequence of characters (single or double quotes are fine). You can also use triple quotes ''' to create big multi-line strings."
   ]
  },
  {
   "cell_type": "code",
   "execution_count": 24,
   "metadata": {},
   "outputs": [
    {
     "name": "stdout",
     "output_type": "stream",
     "text": [
      "This is a string.\n",
      "So is this. \n",
      "\n",
      "As a programmer you'll frequently work with strings. Here are some common scenarios where you need to understand strings:\n",
      "- dealing with any textual data\n",
      "- handling and presenting output from your program\n",
      "- files like CSV's are basically one large string\n"
     ]
    }
   ],
   "source": [
    "# Strings are used to represent text.\n",
    "example_string = 'This is a string.'\n",
    "example_string2 = \"So is this.\"\n",
    "\n",
    "example_multi_line = '''As a programmer you'll frequently work with strings. Here are some common scenarios where you need to understand strings:\n",
    "- dealing with any textual data\n",
    "- handling and presenting output from your program\n",
    "- files like CSV's are basically one large string'''\n",
    "\n",
    "print(example_string)\n",
    "print(example_string2, '\\n')\n",
    "print(example_multi_line)"
   ]
  },
  {
   "cell_type": "markdown",
   "metadata": {},
   "source": [
    "Some characters can be tricky to use such as double quotes to represent a quotation."
   ]
  },
  {
   "cell_type": "code",
   "execution_count": 25,
   "metadata": {},
   "outputs": [
    {
     "name": "stdout",
     "output_type": "stream",
     "text": [
      "JFK said, \"Ask not what your country can do for you ...\"\n"
     ]
    }
   ],
   "source": [
    "# Use a backslash (\\) in order to escape a character.\n",
    "quote = \"JFK said, \\\"Ask not what your country can do for you ...\\\"\"\n",
    "print(quote)"
   ]
  },
  {
   "cell_type": "markdown",
   "metadata": {},
   "source": [
    "In other contexts, the backslash is used to indicate special characters, such as a line break (\\n) or a tab (\\t) character."
   ]
  },
  {
   "cell_type": "markdown",
   "metadata": {},
   "source": [
    "### Concatenating and repeating strings."
   ]
  },
  {
   "cell_type": "markdown",
   "metadata": {},
   "source": [
    "Python lets us use the + operator to concatenate (connect) two strings into a bigger one. You can also use the * operator to repeat a string."
   ]
  },
  {
   "cell_type": "code",
   "execution_count": 27,
   "metadata": {},
   "outputs": [
    {
     "name": "stdout",
     "output_type": "stream",
     "text": [
      "John Tate Kennedy\n"
     ]
    }
   ],
   "source": [
    "# Use the + operator to concatenate.\n",
    "first_name = \"John\"\n",
    "middle_name = \"Tate\"\n",
    "last_name = \"Kennedy\"\n",
    "\n",
    "full_name = first_name + \" \" + middle_name + \" \" + last_name\n",
    "print(full_name)"
   ]
  },
  {
   "cell_type": "code",
   "execution_count": 53,
   "metadata": {},
   "outputs": [
    {
     "name": "stdout",
     "output_type": "stream",
     "text": [
      "NaNaNaNaNaNaNaNaNaNaNaNaNaNaNaNa Batman! Rest in peace Adam West.\n"
     ]
    }
   ],
   "source": [
    "# Use the * operator to repeat.\n",
    "print(\"Na\" * 16 + \" Batman! Rest in peace Adam West.\")"
   ]
  },
  {
   "cell_type": "markdown",
   "metadata": {},
   "source": [
    "### Indexes and slicing."
   ]
  },
  {
   "cell_type": "markdown",
   "metadata": {},
   "source": [
    "Each character of a string has an index, starting at 0 for the first character. You can access each character in a string by index using bracket notation."
   ]
  },
  {
   "cell_type": "code",
   "execution_count": 34,
   "metadata": {},
   "outputs": [
    {
     "data": {
      "text/plain": [
       "'F'"
      ]
     },
     "execution_count": 34,
     "metadata": {},
     "output_type": "execute_result"
    }
   ],
   "source": [
    "\"Find me if you can!\"[0]"
   ]
  },
  {
   "cell_type": "code",
   "execution_count": 39,
   "metadata": {},
   "outputs": [
    {
     "data": {
      "text/plain": [
       "'u'"
      ]
     },
     "execution_count": 39,
     "metadata": {},
     "output_type": "execute_result"
    }
   ],
   "source": [
    "\"Find me if you can!\"[13]"
   ]
  },
  {
   "cell_type": "code",
   "execution_count": 40,
   "metadata": {},
   "outputs": [
    {
     "data": {
      "text/plain": [
       "'n'"
      ]
     },
     "execution_count": 40,
     "metadata": {},
     "output_type": "execute_result"
    }
   ],
   "source": [
    "\"Find me if you can!\"[17]"
   ]
  },
  {
   "cell_type": "code",
   "execution_count": 37,
   "metadata": {},
   "outputs": [
    {
     "data": {
      "text/plain": [
       "'!'"
      ]
     },
     "execution_count": 37,
     "metadata": {},
     "output_type": "execute_result"
    }
   ],
   "source": [
    "\"Find me if you can!\"[-1]"
   ]
  },
  {
   "cell_type": "markdown",
   "metadata": {},
   "source": [
    "You can also access larger chunks of a string using slicing. Using two indexes separated by a colon : will give you a substring. The character at the start index is always included in the substring you get back, and the character at the end index is always excluded.\n",
    "\n",
    "When slicing strings you can omit one of the indexes and Python will assume you want to start from the beginning or go all the way to the end, depending on which index you omit.\n",
    "\n",
    "You can also use negative numbers as indexes. When using negative numbers you start counting from the end, beginning with -1 as the last character in a string."
   ]
  },
  {
   "cell_type": "code",
   "execution_count": 42,
   "metadata": {},
   "outputs": [
    {
     "data": {
      "text/plain": [
       "'Find'"
      ]
     },
     "execution_count": 42,
     "metadata": {},
     "output_type": "execute_result"
    }
   ],
   "source": [
    "\"Find me if you can!\"[0:4]"
   ]
  },
  {
   "cell_type": "code",
   "execution_count": 46,
   "metadata": {},
   "outputs": [
    {
     "data": {
      "text/plain": [
       "'Find'"
      ]
     },
     "execution_count": 46,
     "metadata": {},
     "output_type": "execute_result"
    }
   ],
   "source": [
    "\"Find me if you can!\"[:4]"
   ]
  },
  {
   "cell_type": "code",
   "execution_count": 43,
   "metadata": {},
   "outputs": [
    {
     "data": {
      "text/plain": [
       "'me'"
      ]
     },
     "execution_count": 43,
     "metadata": {},
     "output_type": "execute_result"
    }
   ],
   "source": [
    "\"Find me if you can!\"[5:7]"
   ]
  },
  {
   "cell_type": "code",
   "execution_count": 47,
   "metadata": {},
   "outputs": [
    {
     "data": {
      "text/plain": [
       "'can!'"
      ]
     },
     "execution_count": 47,
     "metadata": {},
     "output_type": "execute_result"
    }
   ],
   "source": [
    "\"Find me if you can!\"[15:]"
   ]
  },
  {
   "cell_type": "code",
   "execution_count": 49,
   "metadata": {},
   "outputs": [
    {
     "data": {
      "text/plain": [
       "'Find me'"
      ]
     },
     "execution_count": 49,
     "metadata": {},
     "output_type": "execute_result"
    }
   ],
   "source": [
    "\"Find me if you can!\"[:-12]"
   ]
  },
  {
   "cell_type": "markdown",
   "metadata": {},
   "source": [
    "You can use the == operator to compare two strings to see if they're identical."
   ]
  },
  {
   "cell_type": "code",
   "execution_count": 50,
   "metadata": {},
   "outputs": [],
   "source": [
    "car_color = 'green'\n",
    "truck_color = 'blue'\n",
    "semi_color = 'blue'"
   ]
  },
  {
   "cell_type": "code",
   "execution_count": 51,
   "metadata": {},
   "outputs": [
    {
     "data": {
      "text/plain": [
       "False"
      ]
     },
     "execution_count": 51,
     "metadata": {},
     "output_type": "execute_result"
    }
   ],
   "source": [
    "car_color == truck_color"
   ]
  },
  {
   "cell_type": "code",
   "execution_count": 52,
   "metadata": {},
   "outputs": [
    {
     "data": {
      "text/plain": [
       "True"
      ]
     },
     "execution_count": 52,
     "metadata": {},
     "output_type": "execute_result"
    }
   ],
   "source": [
    "truck_color == semi_color"
   ]
  },
  {
   "cell_type": "markdown",
   "metadata": {},
   "source": [
    "### String methods."
   ]
  },
  {
   "cell_type": "markdown",
   "metadata": {},
   "source": [
    "All strings in Python share a number of built-in methods. Methods are called by following the string with a . , then the name of the method, and then parentheses ( ) surrounding arguments, if any, that you're passing in to the method."
   ]
  },
  {
   "cell_type": "code",
   "execution_count": 56,
   "metadata": {},
   "outputs": [
    {
     "name": "stdout",
     "output_type": "stream",
     "text": [
      "Arizona \n",
      "\n",
      "cactus\n",
      "sun \n",
      "\n",
      "True\n",
      "False \n",
      "\n",
      "True\n",
      "False \n",
      "\n",
      "6\n",
      "2 \n",
      "\n",
      "True\n",
      "False\n",
      "True \n",
      "\n",
      "['Valley', 'of', 'the', 'sun'] \n",
      "\n",
      "kennedy.johntate \n",
      "\n",
      "My favorite numbers are 17 and 24.\n",
      "My favorite holiday is the 4th of July!\n"
     ]
    }
   ],
   "source": [
    "# Return a new string with a capitalized first character.\n",
    "print('arizona'.capitalize(), '\\n')\n",
    "\n",
    "# Return a new string where all characters are lower case.\n",
    "print('Cactus'.lower())\n",
    "print('SUN'.lower(), '\\n')\n",
    "\n",
    "# Check whether all characters are numeric.\n",
    "print('480'.isdecimal())\n",
    "print('4eight0'.isdecimal(), '\\n')\n",
    "\n",
    "# Check whether all characters are alpha.\n",
    "print('Valley'.isalpha())\n",
    "print('Va11ey'.isalpha(), '\\n')\n",
    "\n",
    "# Find the index of the first occurence of a substring.\n",
    "print('Phoenix'.find('x'))\n",
    "print('Phoenix'.find('o'), '\\n')\n",
    "\n",
    "# Confirm the end of a string.\n",
    "print('desert'.endswith('t'))\n",
    "print('desert'.endswith('e'))\n",
    "print('desert'.endswith('ert'), '\\n')\n",
    "\n",
    "# Split a string into a list of strings at each instance of a substring.\n",
    "print('Valley-of-the-sun'.split('-'), '\\n')\n",
    "\n",
    "# Join a list of strings into one single string.\n",
    "print('.'.join(['kennedy', 'johntate']), '\\n')\n",
    "\n",
    "# \"Format\" a string by replacing `{}` with the arguments you supply to the function.\n",
    "print('My favorite numbers are {} and {}.'.format(17, 24))\n",
    "print('My favorite holiday is the {}th of {}!'.format(4, 'July'))"
   ]
  },
  {
   "cell_type": "markdown",
   "metadata": {},
   "source": [
    "### Numbers are represented by two primary data types: numbers and integers."
   ]
  },
  {
   "cell_type": "markdown",
   "metadata": {},
   "source": [
    "Integers, which represent whole numbers like 8, 42, and 1337, and floats, or floating point numbers, which represent decimal fractions like 3.5, 0.2 or 0.6000000000000001.\n",
    "\n",
    "Ints and floats can be manipulated using the following arithmetic operators:\n",
    "    addition +\n",
    "    subtraction -\n",
    "    multiplication *\n",
    "    \"true\" division /\n",
    "    \"floor\" division //\n",
    "    remainder (also known as the \"modulo\" or \"modulus\" operator) %\n",
    "    exponentiation **"
   ]
  },
  {
   "cell_type": "code",
   "execution_count": 58,
   "metadata": {},
   "outputs": [
    {
     "data": {
      "text/plain": [
       "5"
      ]
     },
     "execution_count": 58,
     "metadata": {},
     "output_type": "execute_result"
    }
   ],
   "source": [
    "3 + 2"
   ]
  },
  {
   "cell_type": "code",
   "execution_count": 59,
   "metadata": {},
   "outputs": [
    {
     "data": {
      "text/plain": [
       "5"
      ]
     },
     "execution_count": 59,
     "metadata": {},
     "output_type": "execute_result"
    }
   ],
   "source": [
    "8 - 3"
   ]
  },
  {
   "cell_type": "code",
   "execution_count": 60,
   "metadata": {},
   "outputs": [
    {
     "data": {
      "text/plain": [
       "9"
      ]
     },
     "execution_count": 60,
     "metadata": {},
     "output_type": "execute_result"
    }
   ],
   "source": [
    "3 * 3"
   ]
  },
  {
   "cell_type": "code",
   "execution_count": 65,
   "metadata": {},
   "outputs": [
    {
     "data": {
      "text/plain": [
       "2.5"
      ]
     },
     "execution_count": 65,
     "metadata": {},
     "output_type": "execute_result"
    }
   ],
   "source": [
    "# There are two types of division: true division and floor division.\n",
    "5 / 2"
   ]
  },
  {
   "cell_type": "code",
   "execution_count": 66,
   "metadata": {},
   "outputs": [
    {
     "data": {
      "text/plain": [
       "2"
      ]
     },
     "execution_count": 66,
     "metadata": {},
     "output_type": "execute_result"
    }
   ],
   "source": [
    "5 // 2"
   ]
  },
  {
   "cell_type": "code",
   "execution_count": 67,
   "metadata": {},
   "outputs": [
    {
     "data": {
      "text/plain": [
       "1"
      ]
     },
     "execution_count": 67,
     "metadata": {},
     "output_type": "execute_result"
    }
   ],
   "source": [
    "# Use the modulo operator % to get a remainder.\n",
    "5 % 2"
   ]
  },
  {
   "cell_type": "code",
   "execution_count": 68,
   "metadata": {},
   "outputs": [
    {
     "data": {
      "text/plain": [
       "25"
      ]
     },
     "execution_count": 68,
     "metadata": {},
     "output_type": "execute_result"
    }
   ],
   "source": [
    "# Can do exponentiation is with the ** operator.\n",
    "5 ** 2"
   ]
  },
  {
   "cell_type": "code",
   "execution_count": 69,
   "metadata": {},
   "outputs": [
    {
     "data": {
      "text/plain": [
       "27"
      ]
     },
     "execution_count": 69,
     "metadata": {},
     "output_type": "execute_result"
    }
   ],
   "source": [
    "3 ** 3"
   ]
  },
  {
   "cell_type": "code",
   "execution_count": 71,
   "metadata": {},
   "outputs": [
    {
     "name": "stdout",
     "output_type": "stream",
     "text": [
      "<class 'int'>\n",
      "<class 'float'>\n"
     ]
    }
   ],
   "source": [
    "# Can use the built-in type() function to see what kind of data you're dealing with when you aren't sure whether you have an int\n",
    "# or float.\n",
    "solution = 24 + 17\n",
    "print(type(solution))\n",
    "\n",
    "points = 24 / 2\n",
    "print(type(points))"
   ]
  },
  {
   "cell_type": "markdown",
   "metadata": {},
   "source": [
    "Operations can be grouped, as in Algebra, with parentheses. Python handles order of operations, or operator precedence, via PEMDAS: parentheses, exponents, multiplication/division, addition/subtraction."
   ]
  },
  {
   "cell_type": "code",
   "execution_count": 72,
   "metadata": {},
   "outputs": [
    {
     "name": "stdout",
     "output_type": "stream",
     "text": [
      "6.0\n"
     ]
    }
   ],
   "source": [
    "print(24 / 12 * (2 + 1))"
   ]
  },
  {
   "cell_type": "markdown",
   "metadata": {},
   "source": [
    "### Assignment operators."
   ]
  },
  {
   "cell_type": "markdown",
   "metadata": {},
   "source": [
    "It's very common to perform arithmetic with numbers assigned to variables and to then want to store the result back in the variable. Reassigning values like this is incredibly common, so Python gives us compound assignment operators that will perform an operation and assign the result back to the variable all at once.\n",
    "\n",
    "Here are the assignment operators:\n",
    "+= add and assign\n",
    "-= subtract and assign\n",
    "*= multiply and assign\n",
    "/= \"true\" divide and assign\n",
    "//= \"floor\" divide and assign\n",
    "%= modulo and assign\n",
    "**= exponentiate and assign"
   ]
  },
  {
   "cell_type": "code",
   "execution_count": 73,
   "metadata": {},
   "outputs": [
    {
     "name": "stdout",
     "output_type": "stream",
     "text": [
      "1824\n"
     ]
    }
   ],
   "source": [
    "number_of_steps = 1724\n",
    "number_of_steps = number_of_steps + 100\n",
    "print(number_of_steps)"
   ]
  },
  {
   "cell_type": "code",
   "execution_count": 74,
   "metadata": {},
   "outputs": [
    {
     "name": "stdout",
     "output_type": "stream",
     "text": [
      "3.5\n",
      "1.25\n",
      "315.0\n"
     ]
    }
   ],
   "source": [
    "miles = 3\n",
    "hours = 1\n",
    "calories = 210\n",
    "\n",
    "# The following methods are equivalent (both increase the value assigned to the variable by one).\n",
    "miles = miles + .5\n",
    "hours += .25\n",
    "calories *= 1.5\n",
    "\n",
    "print(miles)\n",
    "print(hours)\n",
    "print(calories)"
   ]
  },
  {
   "cell_type": "code",
   "execution_count": 75,
   "metadata": {},
   "outputs": [
    {
     "name": "stdout",
     "output_type": "stream",
     "text": [
      "300.0\n"
     ]
    }
   ],
   "source": [
    "calories -= 15\n",
    "\n",
    "print(calories)"
   ]
  },
  {
   "cell_type": "markdown",
   "metadata": {},
   "source": [
    "### Comparing numbers."
   ]
  },
  {
   "cell_type": "markdown",
   "metadata": {},
   "source": [
    "Numbers can be compared using the following comparison operators:\n",
    "less than <\n",
    "less than or equal to <=\n",
    "greater than >\n",
    "greater than or equal to >=\n",
    "equal ==\n",
    "not equal !="
   ]
  },
  {
   "cell_type": "code",
   "execution_count": 76,
   "metadata": {},
   "outputs": [
    {
     "name": "stdout",
     "output_type": "stream",
     "text": [
      "True\n",
      "True\n",
      "True\n",
      "False\n",
      "True\n",
      "False\n",
      "True\n"
     ]
    }
   ],
   "source": [
    "# Using comparson operators with numbers.\n",
    "print(1 < 2)\n",
    "print(1 <= 2)\n",
    "print(2 <= 2)\n",
    "print(3 <= 2)\n",
    "print(1 == 1)\n",
    "print(1 == 2)\n",
    "print(1 != 2)"
   ]
  },
  {
   "cell_type": "markdown",
   "metadata": {},
   "source": [
    "Python standard library includes a robust math module that will give you common functions like math.floor() and math.sqrt() and constants like math.pi and math.e."
   ]
  }
 ],
 "metadata": {
  "kernelspec": {
   "display_name": "Python 3",
   "language": "python",
   "name": "python3"
  },
  "language_info": {
   "codemirror_mode": {
    "name": "ipython",
    "version": 3
   },
   "file_extension": ".py",
   "mimetype": "text/x-python",
   "name": "python",
   "nbconvert_exporter": "python",
   "pygments_lexer": "ipython3",
   "version": "3.5.5"
  }
 },
 "nbformat": 4,
 "nbformat_minor": 2
}

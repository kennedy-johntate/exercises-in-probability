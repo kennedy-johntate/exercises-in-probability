{
 "cells": [
  {
   "cell_type": "markdown",
   "metadata": {},
   "source": [
    "Question 1. Calculate the probability of flipping a balanced coin four times and getting each pattern: HTTH, HHHH and TTHH.\n",
    "\n",
    "The possible outcomes are 2 (either heads or tails) and the number of flips are 4. 2^4 = 16 (sample size).\n",
    "\n",
    "HHHH HTHH HHTH HHHT\n",
    "HTTH HHTT HTHT THTH\n",
    "TTTT THTT TTHT TTTH\n",
    "THHT TTHH THTH HTHT\n",
    "\n",
    "P(HTTH) = (1/2) * (1/2) * (1/2) * (1/2) = 1/16\n",
    "\n",
    "P(HHHH) = (1/2) * (1/2) * (1/2) * (1/2) = 1/16\n",
    "\n",
    "P(TTHH) = (1/2) * (1/2) * (1/2) * (1/2) = 1/16"
   ]
  },
  {
   "cell_type": "markdown",
   "metadata": {},
   "source": [
    "Question 2. If a list of people has 24 women and 21 men, then the probability of choosing a man from the list is 21/45. What is the probability of not choosing a man?\n",
    "\n",
    "Sample size = 45.\n",
    "\n",
    "P(man) = 24/45 = 53.33%"
   ]
  },
  {
   "cell_type": "markdown",
   "metadata": {},
   "source": [
    "Question 3. The probability that Bernice will travel by plane sometime in the next year is 10%. The probability of a plane crash at any time is .005%. What is the probability that Bernice will be in a plane crash sometime in the next year?\n",
    "\n",
    "10% = 10/100 = 1/10\n",
    ".005% = 5/1000 = 1/200\n",
    "\n",
    "P(travel ∩ crash) = p(travel) * p(crash) = (1/10) * (1/200) = 1/2000 = 0.0005 = 0.05%"
   ]
  },
  {
   "cell_type": "markdown",
   "metadata": {},
   "source": [
    "Question 4. A data scientist wants to study the behavior of users on the company website. Each time a user clicks on a link on the website, there is a 5% chance that the user will be asked to complete a short survey about their behavior on the website. The data scientist uses the survey data to conclude that, on average, users spend 15 minutes surfing the company website before moving on to other things. What is wrong with this conclusion?\n",
    "\n",
    "The study is using conditional variables."
   ]
  }
 ],
 "metadata": {
  "kernelspec": {
   "display_name": "Python 3",
   "language": "python",
   "name": "python3"
  },
  "language_info": {
   "codemirror_mode": {
    "name": "ipython",
    "version": 3
   },
   "file_extension": ".py",
   "mimetype": "text/x-python",
   "name": "python",
   "nbconvert_exporter": "python",
   "pygments_lexer": "ipython3",
   "version": "3.5.5"
  }
 },
 "nbformat": 4,
 "nbformat_minor": 2
}

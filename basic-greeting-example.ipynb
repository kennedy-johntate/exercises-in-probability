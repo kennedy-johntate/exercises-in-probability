{
 "cells": [
  {
   "cell_type": "markdown",
   "metadata": {},
   "source": [
    "# Basic Greeting"
   ]
  },
  {
   "cell_type": "markdown",
   "metadata": {},
   "source": [
    "### The following program is an example of how you can use variables and functions to create a simple greeting."
   ]
  },
  {
   "cell_type": "code",
   "execution_count": 1,
   "metadata": {},
   "outputs": [
    {
     "name": "stdout",
     "output_type": "stream",
     "text": [
      "Hello, I'm Tate\n"
     ]
    }
   ],
   "source": [
    "# Can edit the line below between the \"\" characters to add any first name and/or last name to your desire.\n",
    "my_name = \"Tate\"\n",
    "\n",
    "greeting = \"Hello, I'm \"\n",
    "\n",
    "# Create a function for a basic greeting where you will pass a (name) as an argument.\n",
    "def say_hello(name):\n",
    "    if name == \"\":\n",
    "        print(\"I'm sorry, I didn't catch your name. What did you say your name was again?\")\n",
    "    else:\n",
    "        print(greeting + name)\n",
    "\n",
    "# Execute this code.\n",
    "say_hello(my_name)"
   ]
  }
 ],
 "metadata": {
  "kernelspec": {
   "display_name": "Python 3",
   "language": "python",
   "name": "python3"
  },
  "language_info": {
   "codemirror_mode": {
    "name": "ipython",
    "version": 3
   },
   "file_extension": ".py",
   "mimetype": "text/x-python",
   "name": "python",
   "nbconvert_exporter": "python",
   "pygments_lexer": "ipython3",
   "version": "3.5.5"
  }
 },
 "nbformat": 4,
 "nbformat_minor": 2
}

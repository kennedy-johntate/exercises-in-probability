{
 "cells": [
  {
   "cell_type": "markdown",
   "metadata": {},
   "source": [
    "# Working with List and Loops"
   ]
  },
  {
   "cell_type": "markdown",
   "metadata": {},
   "source": [
    "Collecting a group of data together in a list data structure and using loops to iterate over the data contained in a list or in another sequence."
   ]
  },
  {
   "cell_type": "markdown",
   "metadata": {},
   "source": [
    "### Lists are used to store a collection of data in an ordered sequence."
   ]
  },
  {
   "cell_type": "code",
   "execution_count": 1,
   "metadata": {},
   "outputs": [
    {
     "data": {
      "text/plain": [
       "['Names', 17, 3.14, True, None]"
      ]
     },
     "execution_count": 1,
     "metadata": {},
     "output_type": "execute_result"
    }
   ],
   "source": [
    "# Lists can be composed of different data types.\n",
    "[\"Names\", 17, 3.14, True, None]"
   ]
  },
  {
   "cell_type": "code",
   "execution_count": 6,
   "metadata": {},
   "outputs": [
    {
     "data": {
      "text/plain": [
       "[['People', 'Places', 'Pythons'], [1, 2, 3], [True, False, None]]"
      ]
     },
     "execution_count": 6,
     "metadata": {},
     "output_type": "execute_result"
    }
   ],
   "source": [
    "# List items can even be other lists.\n",
    "[[\"People\", \"Places\", \"Pythons\"], [1, 2, 3], [True, False, None]]"
   ]
  },
  {
   "cell_type": "markdown",
   "metadata": {},
   "source": [
    "To create a list, we use square brackets [ ]. We separate items in the list with commas. It's customary to follow each comma with a space. Lists can be created with zero or more elements."
   ]
  },
  {
   "cell_type": "code",
   "execution_count": 3,
   "metadata": {},
   "outputs": [],
   "source": [
    "empty_list = [   ]\n",
    "letters = ['a', 'b', 'c', 'd', 'e']"
   ]
  },
  {
   "cell_type": "markdown",
   "metadata": {},
   "source": [
    "You can also use list() on another iterable such as a string or a range to generate lists."
   ]
  },
  {
   "cell_type": "code",
   "execution_count": 4,
   "metadata": {},
   "outputs": [
    {
     "data": {
      "text/plain": [
       "['H', 'e', 'l', 'l', 'o']"
      ]
     },
     "execution_count": 4,
     "metadata": {},
     "output_type": "execute_result"
    }
   ],
   "source": [
    "list(\"Hello\")"
   ]
  },
  {
   "cell_type": "code",
   "execution_count": 5,
   "metadata": {},
   "outputs": [
    {
     "data": {
      "text/plain": [
       "[0, 1, 2, 3, 4, 5, 6, 7, 8, 9]"
      ]
     },
     "execution_count": 5,
     "metadata": {},
     "output_type": "execute_result"
    }
   ],
   "source": [
    "list(range(10))"
   ]
  },
  {
   "cell_type": "markdown",
   "metadata": {},
   "source": [
    "List contents are accessed by index using bracket notation; just like strings. You can access an item in a list by asking for the item in a given position."
   ]
  },
  {
   "cell_type": "code",
   "execution_count": 8,
   "metadata": {},
   "outputs": [
    {
     "name": "stdout",
     "output_type": "stream",
     "text": [
      "The first item in the list is soccer.\n"
     ]
    }
   ],
   "source": [
    "random_stuff = ['soccer', 1, 'open', [None, 'food'], True]\n",
    "\n",
    "first_item = random_stuff[0]\n",
    "\n",
    "print(\"The first item in the list is {}.\".format(first_item))"
   ]
  },
  {
   "cell_type": "markdown",
   "metadata": {},
   "source": [
    "Similar syntax is used to update an item at a particular index in a list. "
   ]
  },
  {
   "cell_type": "code",
   "execution_count": 9,
   "metadata": {},
   "outputs": [
    {
     "name": "stdout",
     "output_type": "stream",
     "text": [
      "['new_item', 1, 'open', [None, 'food'], True]\n"
     ]
    }
   ],
   "source": [
    "random_stuff[0] = 'new_item'\n",
    "\n",
    "print(random_stuff)"
   ]
  },
  {
   "cell_type": "markdown",
   "metadata": {},
   "source": [
    "The same slicing syntax used to slice a string can be used to create a slice of a list."
   ]
  },
  {
   "cell_type": "code",
   "execution_count": 10,
   "metadata": {},
   "outputs": [
    {
     "name": "stdout",
     "output_type": "stream",
     "text": [
      "['a', 'b']\n",
      "['b', 'c', 1]\n"
     ]
    }
   ],
   "source": [
    "abc123 = ['a', 'b', 'c', 1, 2, 3]\n",
    "\n",
    "# To access multiple items in a list at a time we create a slice of the list using bracket notation and two indices.\n",
    "first_two = abc123[0:2]\n",
    "middle_three = abc123[1:4]\n",
    "\n",
    "print(first_two)\n",
    "print(middle_three)"
   ]
  },
  {
   "cell_type": "code",
   "execution_count": 11,
   "metadata": {},
   "outputs": [
    {
     "name": "stdout",
     "output_type": "stream",
     "text": [
      "['a', 'b', 'c']\n",
      "['c', 1, 2, 3]\n"
     ]
    }
   ],
   "source": [
    "first_three = abc123[:3]\n",
    "last_four = abc123[2:]\n",
    "\n",
    "print(first_three)\n",
    "print(last_four)"
   ]
  },
  {
   "cell_type": "markdown",
   "metadata": {},
   "source": [
    "Note that slicing doesn't affect the original list. Instead, slicing a list will return a new list representing some or all of the original list."
   ]
  },
  {
   "cell_type": "code",
   "execution_count": 12,
   "metadata": {},
   "outputs": [
    {
     "name": "stdout",
     "output_type": "stream",
     "text": [
      "6\n"
     ]
    }
   ],
   "source": [
    "# Python has a built-in len() function that will tell you how long a list is by returning the number of items in a list.\n",
    "print(len(abc123))"
   ]
  },
  {
   "cell_type": "markdown",
   "metadata": {},
   "source": [
    "### List methods you should know:"
   ]
  },
  {
   "cell_type": "markdown",
   "metadata": {},
   "source": [
    "The .append() method is used to add, or \"append\", a value to the end of a list. Methods such as .append() are called by following the list you want to work with by a dot ., then the name of the method, then parentheses ( ) containing the argument(s) you want to pass in."
   ]
  },
  {
   "cell_type": "code",
   "execution_count": 13,
   "metadata": {},
   "outputs": [
    {
     "name": "stdout",
     "output_type": "stream",
     "text": [
      "['a', 'b', 'c', 'd', 'e', 'e']\n"
     ]
    }
   ],
   "source": [
    "alphabet = ['a', 'b', 'c', 'd', 'e']\n",
    "alphabet.append('e')\n",
    "print(alphabet)"
   ]
  },
  {
   "cell_type": "markdown",
   "metadata": {},
   "source": [
    "The .insert() method is used to insert a new value at any position in a list, including the beginning, middle, or end. You call it with two arguments: the index you want to insert at and the value you want to insert."
   ]
  },
  {
   "cell_type": "code",
   "execution_count": 16,
   "metadata": {},
   "outputs": [
    {
     "name": "stdout",
     "output_type": "stream",
     "text": [
      "[1, 2, 3, 4, 5]\n"
     ]
    }
   ],
   "source": [
    "numbers = [1, 2, 4, 5]\n",
    "numbers.insert(2, 3)\n",
    "print(numbers)"
   ]
  },
  {
   "cell_type": "markdown",
   "metadata": {},
   "source": [
    "The .pop() method is the opposite of .append(): it removes and returns the final item in a list. This is the first list method we've seen that has a return value; .append() and .insert() modify the underlying list but don't themselves have a return value. No arguments are needed with .pop()."
   ]
  },
  {
   "cell_type": "code",
   "execution_count": 17,
   "metadata": {},
   "outputs": [
    {
     "data": {
      "text/plain": [
       "'e'"
      ]
     },
     "execution_count": 17,
     "metadata": {},
     "output_type": "execute_result"
    }
   ],
   "source": [
    "alphabet.pop()"
   ]
  },
  {
   "cell_type": "markdown",
   "metadata": {},
   "source": [
    "The .index() method is used to find out the first index number of a matching list item. There is one required argument (the item you want to match), followed by two optional start and stop index arguments in case you want to limit your search to a particular slice of the list. Like pop() it returns a value: the index number of the first matching element."
   ]
  },
  {
   "cell_type": "code",
   "execution_count": 19,
   "metadata": {},
   "outputs": [
    {
     "data": {
      "text/plain": [
       "1"
      ]
     },
     "execution_count": 19,
     "metadata": {},
     "output_type": "execute_result"
    }
   ],
   "source": [
    "alphabet.index('b')"
   ]
  },
  {
   "cell_type": "code",
   "execution_count": 21,
   "metadata": {},
   "outputs": [
    {
     "data": {
      "text/plain": [
       "4"
      ]
     },
     "execution_count": 21,
     "metadata": {},
     "output_type": "execute_result"
    }
   ],
   "source": [
    "numbers.index(5)"
   ]
  },
  {
   "cell_type": "markdown",
   "metadata": {},
   "source": [
    "The .sort() method is used to re-order a list. Like .append(), .sort() has no return value. It directly modifies the list you call it on and does not create and return a new sorted list."
   ]
  },
  {
   "cell_type": "code",
   "execution_count": 22,
   "metadata": {},
   "outputs": [
    {
     "name": "stdout",
     "output_type": "stream",
     "text": [
      "['apologies', 'gas_station', 'robot', 'zoo']\n"
     ]
    }
   ],
   "source": [
    "words = ['zoo', 'gas_station', 'robot', 'apologies']\n",
    "words.sort()\n",
    "print(words)"
   ]
  },
  {
   "cell_type": "code",
   "execution_count": 23,
   "metadata": {},
   "outputs": [
    {
     "name": "stdout",
     "output_type": "stream",
     "text": [
      "[1, 2, 3, 4]\n"
     ]
    }
   ],
   "source": [
    "integers = [4, 2, 3, 1]\n",
    "integers.sort()\n",
    "print(integers)"
   ]
  },
  {
   "cell_type": "markdown",
   "metadata": {},
   "source": [
    "### Loop is a construct that allows you to automatically repeat a set of instructions."
   ]
  },
  {
   "cell_type": "markdown",
   "metadata": {},
   "source": [
    "Lists are one example of a collection of things. The data in a list might represent a collection of Tweets, emails, statistics, friends, or other kinds of items.\n",
    "\n",
    "One common use of a loop is to write instructions that deal with one of those list items and then automatically apply those instructions to each item in the list.\n",
    "\n",
    "Another common use of loops is to keep repeating the same instructions until some condition is true.\n",
    "\n",
    "Python gives us two kinds of loops suited to these two use cases: for loops and while loops."
   ]
  },
  {
   "cell_type": "markdown",
   "metadata": {},
   "source": [
    "### For loops are used to run through a block of instructions a specific number of times."
   ]
  },
  {
   "cell_type": "code",
   "execution_count": 31,
   "metadata": {},
   "outputs": [
    {
     "name": "stdout",
     "output_type": "stream",
     "text": [
      "Hello John\n",
      "Hello Tate\n",
      "Hello Yoda\n"
     ]
    }
   ],
   "source": [
    "# Create a loop that prints a greeting for each person in attendance.\n",
    "attendees = ['John', 'Tate', 'Yoda']\n",
    "# This code will loop over the list we assign to attendees and repeat the code inside the for loop one time for each item in the list.\n",
    "for attendee in attendees:\n",
    "    greeting = 'Hello ' + attendee\n",
    "    print(greeting)"
   ]
  },
  {
   "cell_type": "markdown",
   "metadata": {},
   "source": [
    "The syntax of this loop begins with a for, which signals that you're starting a loop and indicates which kind of loop it is. Then we follow with the variable name we'd like to give to each item in the list. In our example the entire list is called attendees so it makes sense to call each string inside the list attendee. But you can use any variable name you like. Next use the in keyword followed by the collection you're iterating over. We end the line with a colon :, which indicates that we're ready to begin the indented block of code that will be executed each time the loop iterates.\n",
    "\n",
    "Inside the indented code block we can run any code we like. The example above accesses and uses each item we're iterating over, but that doesn't need to be the case."
   ]
  },
  {
   "cell_type": "code",
   "execution_count": 32,
   "metadata": {},
   "outputs": [
    {
     "name": "stdout",
     "output_type": "stream",
     "text": [
      "We're accessing each item in the list to return this sentence three times but we're not using the actual items.\n",
      "We're accessing each item in the list to return this sentence three times but we're not using the actual items.\n",
      "We're accessing each item in the list to return this sentence three times but we're not using the actual items.\n"
     ]
    }
   ],
   "source": [
    "attendees = ['John', 'Tate', 'Yoda']\n",
    "for attendee in attendees:\n",
    "    print(\"We're accessing each item in the list to return this sentence three times but we're not using the actual items.\")"
   ]
  },
  {
   "cell_type": "code",
   "execution_count": 33,
   "metadata": {},
   "outputs": [
    {
     "data": {
      "text/plain": [
       "'NaNaNaNaNaNaNaNaNaNaNaNaNaNaNaNa, Batman! Batman!'"
      ]
     },
     "execution_count": 33,
     "metadata": {},
     "output_type": "execute_result"
    }
   ],
   "source": [
    "# Here's an example where we just want to repeat the instructions a certain number of times.\n",
    "theme_song = \", Batman! Batman!\"\n",
    "for x in range(16):\n",
    "    theme_song = \"Na\" + theme_song\n",
    "\n",
    "theme_song"
   ]
  },
  {
   "cell_type": "code",
   "execution_count": 34,
   "metadata": {},
   "outputs": [
    {
     "name": "stdout",
     "output_type": "stream",
     "text": [
      "W\n",
      "o\n",
      "r\n",
      "d\n",
      "n equals 0\n",
      "n equals 1\n",
      "n equals 2\n",
      "n equals 3\n",
      "n equals 4\n",
      "developer\n",
      "tester\n",
      "admin\n"
     ]
    }
   ],
   "source": [
    "# Try for loops with other sequences adn collections.\n",
    "\n",
    "# Strings.\n",
    "for letter in \"Word\":\n",
    "    print(letter)\n",
    "\n",
    "# Ranges.\n",
    "for n in range(5):\n",
    "    print(\"n equals {}\".format(n))\n",
    "\n",
    "# Dictionaries.\n",
    "roles = {\n",
    "    \"admin\": \"John\",\n",
    "    \"developer\": \"Tate\",\n",
    "    \"tester\": \"Obiwan\"\n",
    "}\n",
    "\n",
    "for assignment in roles:\n",
    "    print(assignment)"
   ]
  },
  {
   "cell_type": "code",
   "execution_count": 35,
   "metadata": {},
   "outputs": [
    {
     "name": "stdout",
     "output_type": "stream",
     "text": [
      "[0, 2, 4, 6, 8]\n",
      "[1, 3, 5, 7, 9]\n"
     ]
    }
   ],
   "source": [
    "# We can do more than just print things.\n",
    "even_numbers = []\n",
    "odd_numbers = []\n",
    "\n",
    "for n in range(10):\n",
    "    if n % 2 == 0:\n",
    "        even_numbers.append(n)\n",
    "    else:\n",
    "        odd_numbers.append(n)\n",
    "\n",
    "print(even_numbers)\n",
    "print(odd_numbers)"
   ]
  },
  {
   "cell_type": "markdown",
   "metadata": {},
   "source": [
    "Use for loops whenever there is a block of operations that you want to perform on each value in a set of values, or when you want to perform a specific number of times."
   ]
  },
  {
   "cell_type": "markdown",
   "metadata": {},
   "source": [
    "### While loops are useful when you aren't sure how many times you need to loop."
   ]
  },
  {
   "cell_type": "markdown",
   "metadata": {},
   "source": [
    "These while loops will look at a logical condition at each iteration and keep iterating (potentially forever) as long as that logical condition is true."
   ]
  },
  {
   "cell_type": "code",
   "execution_count": 36,
   "metadata": {},
   "outputs": [
    {
     "name": "stdout",
     "output_type": "stream",
     "text": [
      "To start, n equals 24\n",
      "After 1 division(s) n is 12\n",
      "After 2 division(s) n is 6\n",
      "After 3 division(s) n is 3\n",
      "After removing all factors of two, the number is 3.\n"
     ]
    }
   ],
   "source": [
    "# Divide a number evenly by 2 as many times as possible.\n",
    "n = 24\n",
    "divisions = 0\n",
    "print(\"To start, n equals {}\".format(n))\n",
    "\n",
    "while n % 2 == 0:\n",
    "    n = n // 2\n",
    "    divisions += 1\n",
    "    print(\"After {} division(s) n is {}\".format(divisions, n))\n",
    "\n",
    "message = \"After removing all factors of two, the number is {}.\"\n",
    "print(message.format(n))"
   ]
  },
  {
   "cell_type": "markdown",
   "metadata": {},
   "source": [
    "To write a while loop you start with the while keyword, followed by an expression that evaluates to True or False. In the example above that expression is n % 2 == 0. If the condition evaluates to True, the loop will run again; if not, it won't and execution of the program will continue on past the bottom of the loop.\n",
    "\n",
    "Conceptually, while loops are meant to be used where the looped behavior does not have a known number of iterations, but instead a known logical condition where it should terminate."
   ]
  },
  {
   "cell_type": "code",
   "execution_count": 3,
   "metadata": {},
   "outputs": [
    {
     "name": "stdout",
     "output_type": "stream",
     "text": [
      "What is the password?boats\n",
      "The password provided is incorrect.\n",
      "Attempts = 1\n",
      "What is the password?boaty\n",
      "The password provided is incorrect.\n",
      "Attempts = 2\n",
      "What is the password?boats1\n",
      "The password provided is incorrect.\n",
      "Attempts = 3\n",
      "What is the password?will this ever stop\n",
      "The password provided is incorrect.\n",
      "Attempts = 4\n",
      "What is the password?not until you guess the correct password\n",
      "The password provided is incorrect.\n",
      "Attempts = 5\n",
      "What is the password?boatymcboatface\n",
      "Password accepted.\n"
     ]
    }
   ],
   "source": [
    "# A common use is to gather and validate user input.\n",
    "password = \"\"\n",
    "failed_attempts = 0\n",
    "\n",
    "# What will happen if you try several different passwords.\n",
    "while password != \"boatymcboatface\":\n",
    "    password = input(\"What is the password?\")\n",
    "    if password == \"boatymcboatface\":\n",
    "        print(\"Password accepted.\")\n",
    "    else:\n",
    "        print(\"The password provided is incorrect.\")\n",
    "        failed_attempts += 1\n",
    "        print(\"Attempts = {}\".format(failed_attempts))"
   ]
  },
  {
   "cell_type": "markdown",
   "metadata": {},
   "source": [
    "Using break will terminate the enclosing loop, allowing the program to continue executing code further down. In the example below break is executed once the number grows larger than 32, then program execution continues on with the print() statement. The break keyword also works in for loops, and you can use it whenever you want to manually end a loop."
   ]
  },
  {
   "cell_type": "code",
   "execution_count": 2,
   "metadata": {},
   "outputs": [
    {
     "name": "stdout",
     "output_type": "stream",
     "text": [
      "64\n"
     ]
    }
   ],
   "source": [
    "n = 1\n",
    "while True:\n",
    "    n = n * 2\n",
    "    if n > 32:\n",
    "        break\n",
    "print(n)"
   ]
  }
 ],
 "metadata": {
  "kernelspec": {
   "display_name": "Python 3",
   "language": "python",
   "name": "python3"
  },
  "language_info": {
   "codemirror_mode": {
    "name": "ipython",
    "version": 3
   },
   "file_extension": ".py",
   "mimetype": "text/x-python",
   "name": "python",
   "nbconvert_exporter": "python",
   "pygments_lexer": "ipython3",
   "version": "3.5.5"
  }
 },
 "nbformat": 4,
 "nbformat_minor": 2
}

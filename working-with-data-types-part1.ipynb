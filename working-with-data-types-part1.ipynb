{
 "cells": [
  {
   "cell_type": "markdown",
   "metadata": {},
   "source": [
    "# Data Types in Python"
   ]
  },
  {
   "cell_type": "markdown",
   "metadata": {},
   "source": [
    "### Strings are textual data delineated by opening and closing quotes (single or double quotes)."
   ]
  },
  {
   "cell_type": "markdown",
   "metadata": {},
   "source": [
    "Words, names, book chapters, emails, text files, all of these are textual data and can be represented by strings. When you get down to it much of our data is just a bunch of characters strung together in a particular order."
   ]
  },
  {
   "cell_type": "code",
   "execution_count": 1,
   "metadata": {},
   "outputs": [],
   "source": [
    "# Create a variable with a string assigned to it.\n",
    "name = \"John\""
   ]
  },
  {
   "cell_type": "code",
   "execution_count": 2,
   "metadata": {},
   "outputs": [
    {
     "name": "stdout",
     "output_type": "stream",
     "text": [
      "<class 'str'>\n"
     ]
    }
   ],
   "source": [
    "# Use the 'type()' function to confirm the value we assinged to our name variable is a string.\n",
    "print(type(name))"
   ]
  },
  {
   "cell_type": "code",
   "execution_count": 13,
   "metadata": {},
   "outputs": [
    {
     "name": "stdout",
     "output_type": "stream",
     "text": [
      "The first letter of my name is J.\n",
      "\n",
      "The second letter of my name is o.\n",
      "\n",
      "The last letter of my name is n.\n"
     ]
    }
   ],
   "source": [
    "# Access the characters of a string by index with bracket notation, starting at index 0.\n",
    "first_letter = name[0]\n",
    "second_letter = name[1]\n",
    "last_letter = name[-1]\n",
    "\n",
    "print(\"The first letter of my name is \" + first_letter + '.' + '\\n')\n",
    "print(\"The second letter of my name is \" + second_letter + '.' + '\\n')\n",
    "print(\"The last letter of my name is \" + last_letter + '.')"
   ]
  },
  {
   "cell_type": "code",
   "execution_count": 9,
   "metadata": {},
   "outputs": [
    {
     "name": "stdout",
     "output_type": "stream",
     "text": [
      "4\n"
     ]
    }
   ],
   "source": [
    "# The built-in 'len()' fucntion will give us a strings length or the number of characters it contains.\n",
    "print(len(name))"
   ]
  },
  {
   "cell_type": "code",
   "execution_count": 11,
   "metadata": {},
   "outputs": [
    {
     "name": "stdout",
     "output_type": "stream",
     "text": [
      "My first and last name is John Kennedy.\n"
     ]
    }
   ],
   "source": [
    "# Concatenate two strings together into one string with the '+' operator.\n",
    "full_name = name + \" Kennedy\"\n",
    "print(\"My first and last name is \" + full_name + \".\")"
   ]
  },
  {
   "cell_type": "code",
   "execution_count": 15,
   "metadata": {},
   "outputs": [
    {
     "name": "stdout",
     "output_type": "stream",
     "text": [
      "My first and last name is John Kennedy but everyone goes by my middle name Tate.\n"
     ]
    }
   ],
   "source": [
    "# Use the '.format()' string method to complete or fill in strings.\n",
    "middle_name = \"Tate\"\n",
    "introduction = \"My first and last name is {} but everyone goes by my middle name {}.\"\n",
    "print(introduction.format(full_name, middle_name))"
   ]
  },
  {
   "cell_type": "markdown",
   "metadata": {},
   "source": [
    "### Numbers come in two forms in Python: integers (or \"ints\") and floating point numbers (or \"floats\")."
   ]
  },
  {
   "cell_type": "markdown",
   "metadata": {},
   "source": [
    "Integers represent whole numbers that aren't written as a fraction or with a decimal point (there is no maximum integer size).\n",
    "\n",
    "Floating point numbers are numbers that do include a decimal point. Note, computers represent everything internally in binary and since it's impossible to precisely represent many decimal fractions in binary, it's impossible to represent .2, .4, and .6 precisely in binary. There's a limit to how precise we can get (arithmetic with floats is asking for trouble)."
   ]
  },
  {
   "cell_type": "code",
   "execution_count": 16,
   "metadata": {},
   "outputs": [],
   "source": [
    "# Create variables with numbers assigned to them.\n",
    "count = 3\n",
    "pi = 3.14"
   ]
  },
  {
   "cell_type": "code",
   "execution_count": 17,
   "metadata": {},
   "outputs": [
    {
     "name": "stdout",
     "output_type": "stream",
     "text": [
      "<class 'int'>\n",
      "<class 'float'>\n"
     ]
    }
   ],
   "source": [
    "# Use the 'type()' function again, this time to confirm where we have an integer or a floating point number.\n",
    "print(type(count))\n",
    "print(type(pi))"
   ]
  },
  {
   "cell_type": "code",
   "execution_count": 21,
   "metadata": {},
   "outputs": [
    {
     "name": "stdout",
     "output_type": "stream",
     "text": [
      "10\n",
      "-4\n",
      "6\n",
      "1.0\n",
      "1\n"
     ]
    }
   ],
   "source": [
    "# Perform mathematics with numbers (note, % operator is modulo).\n",
    "print(count + 7)\n",
    "print(count - 7)\n",
    "print(count * 2)\n",
    "print(count / 3)\n",
    "print(13 % 2)"
   ]
  },
  {
   "cell_type": "code",
   "execution_count": 25,
   "metadata": {},
   "outputs": [
    {
     "name": "stdout",
     "output_type": "stream",
     "text": [
      "9.42 \n",
      "\n",
      "6.140000000000001\n",
      "-0.14000000000000012\n"
     ]
    }
   ],
   "source": [
    "# Putting an int and a float together will give you a float.\n",
    "print(count * pi, '\\n')\n",
    "\n",
    "# Remember our earlier warning, becareful with floating point math.\n",
    "print(count + pi)\n",
    "print(count - pi)"
   ]
  },
  {
   "cell_type": "code",
   "execution_count": 26,
   "metadata": {},
   "outputs": [
    {
     "name": "stdout",
     "output_type": "stream",
     "text": [
      "False\n"
     ]
    }
   ],
   "source": [
    "# Numbers are not strings, even if they look similar.\n",
    "print(10 == '10')"
   ]
  },
  {
   "cell_type": "code",
   "execution_count": 27,
   "metadata": {},
   "outputs": [
    {
     "name": "stdout",
     "output_type": "stream",
     "text": [
      "Who doesn't love a 3 day weekend!\n"
     ]
    }
   ],
   "source": [
    "# Convert a number to a string.\n",
    "print(\"Who doesn't love a \" + str(count) + \" day weekend!\")"
   ]
  },
  {
   "cell_type": "markdown",
   "metadata": {},
   "source": [
    "### Booleans signify truth and falsity."
   ]
  },
  {
   "cell_type": "markdown",
   "metadata": {},
   "source": [
    "A boolean has just two possible values: True and False."
   ]
  },
  {
   "cell_type": "code",
   "execution_count": 49,
   "metadata": {},
   "outputs": [],
   "source": [
    "# Create a variable with the boolean True assigned to it.\n",
    "present = False"
   ]
  },
  {
   "cell_type": "code",
   "execution_count": 52,
   "metadata": {},
   "outputs": [],
   "source": [
    "invitee = \"John\""
   ]
  },
  {
   "cell_type": "code",
   "execution_count": 54,
   "metadata": {},
   "outputs": [
    {
     "name": "stdout",
     "output_type": "stream",
     "text": [
      "Let's go ahead and get started and if John is not able to join I'll make sure to send meeting minutes after the call.\n"
     ]
    }
   ],
   "source": [
    "# Create conditional statements. See how this program works by changing the variable present between True and False.\n",
    "if present == True:\n",
    "    print(\"Welcome \" + invitee + \", glad you could join.\")\n",
    "elif present == False:\n",
    "    print(\"Let's go ahead and get started and if \" + invitee + \" is not able to join I'll make sure to send meeting minutes after the call.\")\n",
    "else:\n",
    "    print(\"Has anyone joined that hasn't had a chance to announce?\")"
   ]
  },
  {
   "cell_type": "markdown",
   "metadata": {},
   "source": [
    "### None is used when you want to represent the absence of any value."
   ]
  },
  {
   "cell_type": "markdown",
   "metadata": {},
   "source": [
    "Strings, numbers, and booleans are useful for representing actual things, but sometimes you want to represent nothing."
   ]
  },
  {
   "cell_type": "code",
   "execution_count": 76,
   "metadata": {},
   "outputs": [],
   "source": [
    "# Create variables with 'None' assigned to some of them.\n",
    "name = None\n",
    "education_level = 'Masters degree'\n",
    "years_working = 13\n",
    "job_status = \"actively searching\"\n",
    "profession = None"
   ]
  },
  {
   "cell_type": "code",
   "execution_count": 77,
   "metadata": {},
   "outputs": [
    {
     "name": "stdout",
     "output_type": "stream",
     "text": [
      "What is your name? Tate\n",
      "\n",
      " Great, thanks Tate.\n"
     ]
    }
   ],
   "source": [
    "# Assign a name.\n",
    "if name is None:\n",
    "    name = input(\"What is your name? \")\n",
    "    print('\\n', \"Great, thanks {}\".format(name) + '.')"
   ]
  },
  {
   "cell_type": "code",
   "execution_count": 78,
   "metadata": {},
   "outputs": [
    {
     "name": "stdout",
     "output_type": "stream",
     "text": [
      "Tate, I see you don't have a profession listed but are actively searching.\n",
      "It looks like you have your Masters degree and 13 years of work experience.\n",
      "What kind of position are you targetting? Data Scientist\n",
      "That sounds great Tate! Data Scientist are in high demand.\n"
     ]
    }
   ],
   "source": [
    "# Assing a profession.\n",
    "if profession is None:\n",
    "    print(\"{}, I see you don't have a profession listed but are {}.\".format(name, job_status))\n",
    "    print(\"It looks like you have your {} and {} years of work experience.\".format(education_level, years_working))\n",
    "    profession = input(\"What kind of position are you targetting? \")\n",
    "\n",
    "print(\"That sounds great {}! {} are in high demand.\".format(name, profession))"
   ]
  },
  {
   "cell_type": "markdown",
   "metadata": {},
   "source": [
    "You can have a debate about when it's appropriate to use None instead of False or 0 or an empty string \"\" or so on. Just know that None is around to use when you want to represent the lack of a value."
   ]
  },
  {
   "cell_type": "markdown",
   "metadata": {},
   "source": [
    "### Converting data of type to another data type is possible in Python."
   ]
  },
  {
   "cell_type": "markdown",
   "metadata": {},
   "source": [
    " In Python, if you try to perform an operation that expects a number on a string you'll get an error."
   ]
  },
  {
   "cell_type": "code",
   "execution_count": 79,
   "metadata": {},
   "outputs": [
    {
     "ename": "TypeError",
     "evalue": "unsupported operand type(s) for -: 'int' and 'str'",
     "output_type": "error",
     "traceback": [
      "\u001b[1;31m---------------------------------------------------------------------------\u001b[0m",
      "\u001b[1;31mTypeError\u001b[0m                                 Traceback (most recent call last)",
      "\u001b[1;32m<ipython-input-79-89f1e243d532>\u001b[0m in \u001b[0;36m<module>\u001b[1;34m()\u001b[0m\n\u001b[1;32m----> 1\u001b[1;33m \u001b[1;36m42\u001b[0m \u001b[1;33m-\u001b[0m \u001b[1;34m\"10\"\u001b[0m\u001b[1;33m\u001b[0m\u001b[0m\n\u001b[0m",
      "\u001b[1;31mTypeError\u001b[0m: unsupported operand type(s) for -: 'int' and 'str'"
     ]
    }
   ],
   "source": [
    "42 - \"10\""
   ]
  },
  {
   "cell_type": "markdown",
   "metadata": {},
   "source": [
    "That TypeError is telling you that you're trying to use data of a particular type (a string) that the - operator doesn't support. You can fix that by converting the string to an integer with the built-in int() function or convert it to a float with the built-in float() function:"
   ]
  },
  {
   "cell_type": "code",
   "execution_count": 81,
   "metadata": {},
   "outputs": [
    {
     "data": {
      "text/plain": [
       "32"
      ]
     },
     "execution_count": 81,
     "metadata": {},
     "output_type": "execute_result"
    }
   ],
   "source": [
    "42 - int(\"10\")"
   ]
  },
  {
   "cell_type": "code",
   "execution_count": 82,
   "metadata": {},
   "outputs": [
    {
     "data": {
      "text/plain": [
       "31.5"
      ]
     },
     "execution_count": 82,
     "metadata": {},
     "output_type": "execute_result"
    }
   ],
   "source": [
    "42 - float(\"10.5\")"
   ]
  },
  {
   "cell_type": "markdown",
   "metadata": {},
   "source": [
    "You can't use the + operator to concatenate a number with a string."
   ]
  },
  {
   "cell_type": "code",
   "execution_count": 83,
   "metadata": {},
   "outputs": [
    {
     "ename": "TypeError",
     "evalue": "Can't convert 'int' object to str implicitly",
     "output_type": "error",
     "traceback": [
      "\u001b[1;31m---------------------------------------------------------------------------\u001b[0m",
      "\u001b[1;31mTypeError\u001b[0m                                 Traceback (most recent call last)",
      "\u001b[1;32m<ipython-input-83-3e9ad6257973>\u001b[0m in \u001b[0;36m<module>\u001b[1;34m()\u001b[0m\n\u001b[1;32m----> 1\u001b[1;33m \u001b[1;34m\"Number of days in a week equals \"\u001b[0m \u001b[1;33m+\u001b[0m \u001b[1;36m7\u001b[0m\u001b[1;33m\u001b[0m\u001b[0m\n\u001b[0m",
      "\u001b[1;31mTypeError\u001b[0m: Can't convert 'int' object to str implicitly"
     ]
    }
   ],
   "source": [
    "\"Number of days in a week equals \" + 7"
   ]
  },
  {
   "cell_type": "markdown",
   "metadata": {},
   "source": [
    "This error is telling us that we're trying to perform an operation, concatenation, on integer data that doesn't support that operation. Again, we can fix that error by converting the number to a string with the built-in str() function:"
   ]
  },
  {
   "cell_type": "code",
   "execution_count": 85,
   "metadata": {},
   "outputs": [
    {
     "data": {
      "text/plain": [
       "'Number of days in a week equals 7.'"
      ]
     },
     "execution_count": 85,
     "metadata": {},
     "output_type": "execute_result"
    }
   ],
   "source": [
    "\"Number of days in a week equals \" + str(7) + '.'"
   ]
  },
  {
   "cell_type": "markdown",
   "metadata": {},
   "source": [
    "### Lists are ordered collections of data."
   ]
  },
  {
   "cell_type": "markdown",
   "metadata": {},
   "source": [
    "To create a list simply wrap other data, separated by commas, in square brackets [ ]. You can put any value into a list that you like, even another list. Just like the characters in a string, the elements in a list are ordered and can be accessed by index with bracket notation."
   ]
  },
  {
   "cell_type": "code",
   "execution_count": 99,
   "metadata": {},
   "outputs": [],
   "source": [
    "# Create two list, one encompassing strings and the other numbers.\n",
    "data_sci_tools = [\"SQL\", \"Libraries\", \"Python\"]\n",
    "room_dimensions = [15.5, 9, 12]"
   ]
  },
  {
   "cell_type": "code",
   "execution_count": 100,
   "metadata": {},
   "outputs": [],
   "source": [
    "# Examples of a list in a list.\n",
    "grocery_list = [\"Milk\", \"Honey\", [\"Tea\", \"Lemon\"]]\n",
    "codes = [[1, 2, 3], ['a', 2, 'c'], [1.1, 2, 'c']]"
   ]
  },
  {
   "cell_type": "code",
   "execution_count": 101,
   "metadata": {},
   "outputs": [
    {
     "name": "stdout",
     "output_type": "stream",
     "text": [
      "I use the programming language Python to do all my analytical and machine learning tasks.\n",
      "\n",
      "Don't forget the Milk!\n"
     ]
    }
   ],
   "source": [
    "# Access a list by index.\n",
    "print(\"I use the programming language \" + data_sci_tools[2] + \" to do all my analytical and machine learning tasks.\" + '\\n')\n",
    "print(\"Don't forget the \" + grocery_list[0] + '!')"
   ]
  },
  {
   "cell_type": "code",
   "execution_count": 102,
   "metadata": {},
   "outputs": [
    {
     "name": "stdout",
     "output_type": "stream",
     "text": [
      "Green Tea is my favorite kind of Tea.\n"
     ]
    }
   ],
   "source": [
    "# You can access nested lists using an index as well with additional indexes.\n",
    "print(\"Green Tea is my favorite kind of \" + grocery_list[2][0] + '.')"
   ]
  },
  {
   "cell_type": "code",
   "execution_count": 103,
   "metadata": {},
   "outputs": [
    {
     "name": "stdout",
     "output_type": "stream",
     "text": [
      "3\n",
      "3\n"
     ]
    }
   ],
   "source": [
    "# Use the 'len()' fucntion to determine the length of a list.\n",
    "print(len(room_dimensions))\n",
    "print(len(codes))"
   ]
  },
  {
   "cell_type": "code",
   "execution_count": 104,
   "metadata": {},
   "outputs": [
    {
     "name": "stdout",
     "output_type": "stream",
     "text": [
      "['Milk', 'Honey', ['Tea', 'Lemon'], 'Agave']\n"
     ]
    }
   ],
   "source": [
    "# Modify a list.\n",
    "grocery_list.append(\"Agave\")\n",
    "print(grocery_list)"
   ]
  },
  {
   "cell_type": "markdown",
   "metadata": {},
   "source": [
    "### Dictionaries are another way to collect several pieces of data together."
   ]
  },
  {
   "cell_type": "markdown",
   "metadata": {},
   "source": [
    "While a list stores that data as an ordered sequence, dictionaries store that data as an unordered collection of key-value pairs. To create a dictionary, wrap key-value pairs in curly braces and each key-value pair will be separated by a colon { : }. Keys will be on the left side of the colon and the value associated with the key will be on the right side of the colon. Each key-value pair in a dictonary is separated by a comma."
   ]
  },
  {
   "cell_type": "markdown",
   "metadata": {},
   "source": [
    "Just like lists, you can use bracket notation to access the data in a dictionary. Unlike lists, where you use an index number, with dictionaries you look up data using a particular key."
   ]
  },
  {
   "cell_type": "code",
   "execution_count": 106,
   "metadata": {},
   "outputs": [],
   "source": [
    "# Creata a simple dictionary. Dictionaries are great for grouping related data together.\n",
    "full_name = {\"first\":\"John\", \"middle\":\"Tate\", \"last\":\"Kennedy\"}"
   ]
  },
  {
   "cell_type": "code",
   "execution_count": 108,
   "metadata": {},
   "outputs": [],
   "source": [
    "# Create a new dictionary, splitting each key-value pair onto a new line. This makes it easier to read a dictionary.\n",
    "candidate_profile = {\n",
    "    \"name\": None,\n",
    "    \"education_level\": \"Masters degree\",\n",
    "    \"years_working\": 13,\n",
    "    \"job_status\": \"actively searching\",\n",
    "    \"profession\": None,\n",
    "}"
   ]
  },
  {
   "cell_type": "code",
   "execution_count": 109,
   "metadata": {},
   "outputs": [
    {
     "name": "stdout",
     "output_type": "stream",
     "text": [
      "What is your name? Tate\n",
      "Great, thanks Tate.\n"
     ]
    }
   ],
   "source": [
    "# Check that candidate's name.\n",
    "if candidate_profile[\"name\"] is None:\n",
    "    # Can modify dictionary values the same way we access them.\n",
    "    candidate_profile[\"name\"] = input(\"What is your name? \")\n",
    "    print(\"Great, thanks {}.\".format(candidate_profile[\"name\"]))"
   ]
  },
  {
   "cell_type": "code",
   "execution_count": 110,
   "metadata": {},
   "outputs": [
    {
     "name": "stdout",
     "output_type": "stream",
     "text": [
      "Abc123 Inc.\n"
     ]
    }
   ],
   "source": [
    "# Can also add new key-value pairs using the same bracket notation syntax.\n",
    "candidate_profile[\"current_employer\"] = \"Abc123 Inc.\"\n",
    "print(candidate_profile[\"current_employer\"])"
   ]
  },
  {
   "cell_type": "code",
   "execution_count": 115,
   "metadata": {},
   "outputs": [
    {
     "name": "stdout",
     "output_type": "stream",
     "text": [
      "Hello Tate, I can see based on your current profile you are actively searching for a Data Scientist role.\n"
     ]
    }
   ],
   "source": [
    "# Assign the candidate a profession.\n",
    "candidate_profile[\"profession\"] = \"Data Scientist\"\n",
    "print(\"Hello {}, I can see based on your current profile you are {} for a {} role.\".format(candidate_profile[\"name\"], \n",
    "                                                                                           candidate_profile[\"job_status\"],\n",
    "                                                                                           candidate_profile[\"profession\"]))"
   ]
  }
 ],
 "metadata": {
  "kernelspec": {
   "display_name": "Python 3",
   "language": "python",
   "name": "python3"
  },
  "language_info": {
   "codemirror_mode": {
    "name": "ipython",
    "version": 3
   },
   "file_extension": ".py",
   "mimetype": "text/x-python",
   "name": "python",
   "nbconvert_exporter": "python",
   "pygments_lexer": "ipython3",
   "version": "3.5.5"
  }
 },
 "nbformat": 4,
 "nbformat_minor": 2
}

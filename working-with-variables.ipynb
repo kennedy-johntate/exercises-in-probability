{
 "cells": [
  {
   "cell_type": "markdown",
   "metadata": {},
   "source": [
    "# Working with Variables"
   ]
  },
  {
   "cell_type": "markdown",
   "metadata": {},
   "source": [
    "### Variable is a name that is attached to a value."
   ]
  },
  {
   "cell_type": "markdown",
   "metadata": {},
   "source": [
    "Variables open up two possibilities:\n",
    "\n",
    "First, they give us a shorthand way to refer to values created elsewhere in a program. We can declare and define a variable once, then pass that value around in our code without having to rewrite the value each time."
   ]
  },
  {
   "cell_type": "code",
   "execution_count": 1,
   "metadata": {},
   "outputs": [],
   "source": [
    "# Create a variable to store your contact information. To assign a value to a variable we use the = operator.\n",
    "contact_info = 'kennedy.johntate@gmail.com or 614.507.2874'"
   ]
  },
  {
   "cell_type": "code",
   "execution_count": 2,
   "metadata": {},
   "outputs": [],
   "source": [
    "# Create a variable to use newlines (\"\\n\") for formatting purposes.\n",
    "empty_line = \"\\n\""
   ]
  },
  {
   "cell_type": "code",
   "execution_count": 8,
   "metadata": {},
   "outputs": [
    {
     "name": "stdout",
     "output_type": "stream",
     "text": [
      "Please complete the following new patient form.\n",
      "\n",
      "\n",
      "Patient contact info: kennedy.johntate@gmail.com or 614.507.2874\n"
     ]
    }
   ],
   "source": [
    "# Examples of how we can use our new contact_info variable to answer various types of request for such information.\n",
    "print(\"Please complete the following new patient form.\")\n",
    "\n",
    "# To access the value in a variable, you simply refer to the variable in your code.\n",
    "print(empty_line)\n",
    "print(\"Patient contact info: \" + contact_info)"
   ]
  },
  {
   "cell_type": "code",
   "execution_count": 4,
   "metadata": {},
   "outputs": [],
   "source": [
    "# Create a new variable to provide different landing pages for your online portfolio page.\n",
    "port_url = \"kennedy.johntate.homepage.com/\""
   ]
  },
  {
   "cell_type": "code",
   "execution_count": 5,
   "metadata": {},
   "outputs": [
    {
     "name": "stdout",
     "output_type": "stream",
     "text": [
      "You can read more about my personal background at kennedy.johntate.homepage.com/bio\n",
      "\n",
      "\n",
      "You may also be interested in my professional experience found here, kennedy.johntate.homepage.com/career\n",
      "\n",
      "\n",
      "To view some of my recent Data Science projects stored at kennedy.johntate.homepage.com/projects\n",
      "\n",
      "\n",
      "If you would like to submit any questions or feedback, I can be reach at kennedy.johntate@gmail.com or 614.507.2874\n"
     ]
    }
   ],
   "source": [
    "# Examples of how we might use this new variable to help users navigate through your personal portfolio website.\n",
    "print(\"You can read more about my personal background at \" + port_url + \"bio\")\n",
    "print(empty_line)\n",
    "print(\"You may also be interested in my professional experience found here, \" + port_url + \"career\")\n",
    "print(empty_line)\n",
    "print(\"To view some of my recent Data Science projects stored at \" + port_url + \"projects\")\n",
    "print(empty_line)\n",
    "print(\"If you would like to submit any questions or feedback, I can be reach at \" + contact_info)"
   ]
  },
  {
   "cell_type": "markdown",
   "metadata": {},
   "source": [
    "Second, variables give us a way to manage state in a program. State has to do with persisting or modifying values over time."
   ]
  },
  {
   "cell_type": "code",
   "execution_count": 7,
   "metadata": {},
   "outputs": [
    {
     "name": "stdout",
     "output_type": "stream",
     "text": [
      "How many bottles of beer are on the wall? 99\n",
      "\n",
      "\n",
      "There are 99 bottles of beer on the wall.\n",
      "\n",
      "\n",
      "would you like to take any down? Yes\n",
      "Ok, how many? 90\n",
      "\n",
      "\n",
      "There are now 9 bottles of beer on the wall.\n"
     ]
    }
   ],
   "source": [
    "# Using the classic bottles of beer on the wall as an example of 'state' in a program.\n",
    "\n",
    "# As the user to input the number of beer bottles to start with and store that result in a variable.\n",
    "bottle_count = int(input(\"How many bottles of beer are on the wall? \"))\n",
    "print(empty_line)\n",
    "\n",
    "print(\"There are {} bottles of beer on the wall.\".format(bottle_count))\n",
    "print(empty_line)\n",
    "\n",
    "if input(\"would you like to take any down? \") == \"Yes\":\n",
    "    removed_bottles = int(input(\"Ok, how many? \"))\n",
    "    bottle_count = bottle_count - removed_bottles\n",
    "    print(empty_line)\n",
    "    print(\"There are now {} bottles of beer on the wall.\".format(bottle_count))\n",
    "else:\n",
    "    print(\"Ok, there are still {} bottles of beer on the wall.\".format(bottle_count))"
   ]
  },
  {
   "cell_type": "markdown",
   "metadata": {},
   "source": [
    "The naming requirements in Python are simple:\n",
    "\n",
    "     Variable names must start with a letter or an underscore;\n",
    "\n",
    "     The remainder of your variable name may include letters, numbers, and underscores;\n",
    "\n",
    "     The variable name cannot be a reserved word;"
   ]
  },
  {
   "cell_type": "markdown",
   "metadata": {},
   "source": [
    "Other recommendations or best practices include:\n",
    "\n",
    "     Use lower_case_with_underscores for your variable names;\n",
    "     \n",
    "     Choose meaningful variable names n = \"John\" vs. name = \"John\""
   ]
  }
 ],
 "metadata": {
  "kernelspec": {
   "display_name": "Python 3",
   "language": "python",
   "name": "python3"
  },
  "language_info": {
   "codemirror_mode": {
    "name": "ipython",
    "version": 3
   },
   "file_extension": ".py",
   "mimetype": "text/x-python",
   "name": "python",
   "nbconvert_exporter": "python",
   "pygments_lexer": "ipython3",
   "version": "3.5.5"
  }
 },
 "nbformat": 4,
 "nbformat_minor": 2
}
